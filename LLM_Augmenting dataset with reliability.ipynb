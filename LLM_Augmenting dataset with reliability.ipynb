{
 "cells": [
  {
   "cell_type": "code",
   "execution_count": 15,
   "id": "95ae67bf-4d21-459d-a675-e16ffc9d8fdd",
   "metadata": {},
   "outputs": [],
   "source": [
    "import pandas as pd\n",
    "import numpy as np\n",
    "import matplotlib.pyplot as plt\n",
    "import seaborn as sns\n",
    "from scipy.stats import chi2\n",
    "from scipy.stats import beta\n",
    "import pickle\n",
    "from scipy.stats import pearsonr\n",
    "import math\n",
    "from sklearn.model_selection import train_test_split\n",
    "from sklearn.ensemble import RandomForestClassifier\n",
    "from sklearn.linear_model import LogisticRegression,LinearRegression\n",
    "from sklearn.neural_network import MLPClassifier,MLPRegressor\n",
    "from sklearn.svm import SVC\n",
    "from sklearn.metrics import accuracy_score, classification_report, confusion_matrix,mean_squared_error\n",
    "from itertools import combinations\n",
    "from tabulate import tabulate"
   ]
  },
  {
   "cell_type": "code",
   "execution_count": 16,
   "id": "eb2e991c-b70a-47f3-a351-0b27e6ed3248",
   "metadata": {},
   "outputs": [],
   "source": [
    "with open('glove.pkl','rb') as f:\n",
    "    glove=pickle.load(f)\n",
    "glove=2*glove-1\n",
    "with open('sent_transformer.pkl','rb') as f:\n",
    "    bert=pickle.load(f)\n",
    "bert=2*bert-1\n",
    "with open('universal_sentence_encoder.pkl','rb') as f:\n",
    "    use=pickle.load(f)\n",
    "use=2*use-1"
   ]
  },
  {
   "cell_type": "code",
   "execution_count": null,
   "id": "2232a117-505e-4a5a-90d9-b456a0186668",
   "metadata": {},
   "outputs": [],
   "source": []
  },
  {
   "cell_type": "code",
   "execution_count": 17,
   "id": "c89cdd16-e737-45bd-9453-1579956f32cd",
   "metadata": {},
   "outputs": [],
   "source": [
    "def reliability(similarity):\n",
    "    l=df.shape[0]\n",
    "    scores=np.zeros(l,dtype=float)\n",
    "    cnt=0\n",
    "    simsum=0\n",
    "    for i in range(124):\n",
    "        x1=np.array(list(df[f'feature{i}']))\n",
    "        for j in range(i+1,124):\n",
    "            cnt=cnt+1\n",
    "            x2=np.array(list(df[f'feature{j}']))\n",
    "            s=similarity[i][j]\n",
    "            simsum+=s\n",
    "            rel=s*(1-np.abs(x1-x2))\n",
    "            scores=scores+rel\n",
    "    scores=scores/cnt\n",
    "    return scores"
   ]
  },
  {
   "cell_type": "code",
   "execution_count": 18,
   "id": "6bc2e1c4-a3f5-4607-aa13-5bfc1fb7d781",
   "metadata": {},
   "outputs": [
    {
     "name": "stdout",
     "output_type": "stream",
     "text": [
      "[-0.0061977  -0.11072458 -0.1636842  ... -0.09680749 -0.00093304\n",
      " -0.14803929]\n",
      "(19657, 149)\n"
     ]
    }
   ],
   "source": [
    "df=pd.read_csv('CSV/Labelled_data.csv')\n",
    "X=df.values\n",
    "rel=reliability(bert)\n",
    "print(rel)\n",
    "l=X.shape[0]\n",
    "limit=int(0.6*l)\n",
    "scores=(rel-np.min(rel))/(np.max(rel)-np.min(rel))\n",
    "X_train=X[:limit]\n",
    "X_test=X[limit:]\n",
    "train_scores=scores[:limit]\n",
    "test_scores=scores[limit:]\n",
    "augment_scale=10\n",
    "new_train=[]\n",
    "new_test=[]\n",
    "for i in range(limit):\n",
    "    scr=train_scores[i]\n",
    "    freq=int(1+(augment_scale-1)*scr)\n",
    "    for j in range(freq):\n",
    "        new_train.append(X_train[i])\n",
    "new_train=np.array(new_train)\n",
    "np.random.shuffle(new_train)\n",
    "for i in range(l-limit):\n",
    "     scr=test_scores[i]\n",
    "     freq=int(1+(augment_scale-1)*scr)\n",
    "     for j in range(freq):\n",
    "        new_test.append(X_test[i])\n",
    "new_test=np.array(new_test)\n",
    "np.random.shuffle(new_test)\n",
    "X=np.vstack((new_train,X_test))\n",
    "print(X.shape)\n",
    "df=pd.DataFrame(X,columns=df.columns)\n",
    "df.to_csv('CSV/bert.csv',index=False)"
   ]
  },
  {
   "cell_type": "code",
   "execution_count": 19,
   "id": "7b237751-0c0f-4faf-b29e-450f7709abaf",
   "metadata": {},
   "outputs": [
    {
     "data": {
      "text/plain": [
       "(17838, 149)"
      ]
     },
     "execution_count": 19,
     "metadata": {},
     "output_type": "execute_result"
    }
   ],
   "source": [
    "new_train.shape"
   ]
  },
  {
   "cell_type": "code",
   "execution_count": 20,
   "id": "773ef1bf-4b19-4f42-a30b-1965ef1a5d83",
   "metadata": {},
   "outputs": [
    {
     "data": {
      "text/plain": [
       "(1819, 149)"
      ]
     },
     "execution_count": 20,
     "metadata": {},
     "output_type": "execute_result"
    }
   ],
   "source": [
    "X_test.shape"
   ]
  },
  {
   "cell_type": "code",
   "execution_count": 21,
   "id": "1140ccb2-29d6-40ad-9db3-0d63adf55dbd",
   "metadata": {},
   "outputs": [
    {
     "data": {
      "text/plain": [
       "1819"
      ]
     },
     "execution_count": 21,
     "metadata": {},
     "output_type": "execute_result"
    }
   ],
   "source": [
    "l-limit"
   ]
  },
  {
   "cell_type": "code",
   "execution_count": null,
   "id": "1661e731-d14d-417e-814d-08c52858826e",
   "metadata": {},
   "outputs": [],
   "source": []
  },
  {
   "cell_type": "code",
   "execution_count": null,
   "id": "869208ba-3cc0-4018-aea2-ddad37a97ea5",
   "metadata": {},
   "outputs": [],
   "source": []
  }
 ],
 "metadata": {
  "kernelspec": {
   "display_name": "Python 3 (ipykernel)",
   "language": "python",
   "name": "python3"
  },
  "language_info": {
   "codemirror_mode": {
    "name": "ipython",
    "version": 3
   },
   "file_extension": ".py",
   "mimetype": "text/x-python",
   "name": "python",
   "nbconvert_exporter": "python",
   "pygments_lexer": "ipython3",
   "version": "3.11.5"
  }
 },
 "nbformat": 4,
 "nbformat_minor": 5
}
