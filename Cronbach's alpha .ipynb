{
 "cells": [
  {
   "cell_type": "code",
   "execution_count": 1,
   "id": "db171f7f",
   "metadata": {},
   "outputs": [],
   "source": [
    "import pandas as pd\n",
    "import numpy as np\n",
    "import matplotlib.pyplot as plt\n",
    "import seaborn as sns\n",
    "from scipy.stats import chi2\n",
    "from scipy.stats import beta\n",
    "import pickle\n",
    "from scipy.stats import pearsonr\n",
    "import math\n",
    "from sklearn.model_selection import train_test_split\n",
    "from sklearn.ensemble import RandomForestClassifier\n",
    "from sklearn.linear_model import LogisticRegression,LinearRegression\n",
    "from sklearn.neural_network import MLPClassifier,MLPRegressor\n",
    "from sklearn.svm import SVC\n",
    "from sklearn.metrics import accuracy_score, classification_report, confusion_matrix,mean_squared_error\n",
    "from itertools import combinations\n",
    "from tabulate import tabulate"
   ]
  },
  {
   "cell_type": "code",
   "execution_count": 11,
   "id": "cbc2d05e",
   "metadata": {},
   "outputs": [],
   "source": [
    "def cronbach_alpha1(items):\n",
    "    item_variances = np.var(items, axis=0, ddof=1)\n",
    "    total_variances = np.var(np.sum(items, axis=1), ddof=1)\n",
    "    num_items = len(items[0])\n",
    "    \n",
    "    return (num_items / (num_items - 1)) * (1 - (np.sum(item_variances) / total_variances))\n",
    "def cronbach_alpha2(items):\n",
    "    num_items = items.shape[1]\n",
    "    cov_sum = 0  \n",
    "    for i in range(num_items):\n",
    "        for j in range(i+1, num_items):  # Avoid duplicate pairs and the diagonal\n",
    "            cov_ij = np.cov(items[:, i], items[:, j], ddof=1)[0, 1]  # Covariance between item i and item j\n",
    "            cov_sum += cov_ij    \n",
    "    mean_covariance = cov_sum / (num_items * (num_items - 1) / 2)\n",
    "    item_variances = np.var(items, axis=0, ddof=1)  # Compute variance along columns (axis=0)\n",
    "    mean_variance = np.mean(item_variances)\n",
    "    N=items.shape[1]\n",
    "    alpha=(N*mean_covariance)/(mean_variance+(N-1)*mean_covariance)\n",
    "    return alpha"
   ]
  },
  {
   "cell_type": "code",
   "execution_count": 4,
   "id": "5c9200f4",
   "metadata": {},
   "outputs": [],
   "source": [
    "df=pd.read_csv('CSV/Labelled_data.csv')\n",
    "questions={\n",
    "    'EI':[0,2,4,6,8,10,12,14,16],\n",
    "    'WI':[27,30,33,36,38,41,44,47,50],\n",
    "    'EC':[39,32,35,40,43,46,49,52,53],\n",
    "    'WC':[1,5,9,13,17,19,21,23,25],\n",
    "    'EA':[3,7,11,16,18,20,22,24,26],\n",
    "    'WA':[28,31,34,37,39,42,45,48,51],\n",
    "    'AM':[56,60,72],\n",
    "    'LC':[54,59,64,67],\n",
    "    'MC':[55,62,65,69],\n",
    "    'ND':[63,66],\n",
    "    'PfW':[58,68,71],\n",
    "    'SE':[57,61,70,73],\n",
    "    'E':[74,79,84,89,94,99,104,109,114,119],\n",
    "    'A':[75,80,85,90,95,100,105,110,115,120],\n",
    "    'C':[76,81,86,91,96,101,106,111,116,121],\n",
    "    'N':[77,82,87,92,97,102,107,112,117,122],\n",
    "    'O':[78,83,88,93,98,103,108,113,118,123]\n",
    "}\n",
    "def I_label(score):\n",
    "    if(score==6 or score==7):\n",
    "        return 0\n",
    "    if(score>=2 and score <=5):\n",
    "        return 1\n",
    "    else:\n",
    "        return 2\n",
    "def C_label(score):\n",
    "    if(score>=4 and score<=7):\n",
    "        return 0\n",
    "    elif(score==2 or score==3):\n",
    "        return 1\n",
    "    else:\n",
    "        return 2\n",
    "def A_label(score):\n",
    "    if(score>=4 and score<=6):\n",
    "        return 0\n",
    "    if(score>=7 and score <=9):\n",
    "        return 1\n",
    "    else:\n",
    "        return 2\n",
    "def AM_LC_label(score):\n",
    "    if(score>=4 and score<=5):\n",
    "        return 0\n",
    "    elif(score>=2.6 and score<=3.9):\n",
    "        return 1\n",
    "    else:\n",
    "        return 2\n",
    "def rest_label(score):\n",
    "    if(score>=4 and score<=6):\n",
    "        return 0\n",
    "    elif(score>=2.6 and score<=3.9):\n",
    "        return 1\n",
    "    else:\n",
    "        return 2\n",
    "def EN_label(score):\n",
    "    if(score>=0 and score<=25):\n",
    "        return 0\n",
    "    elif(score>=26 and score<=40):\n",
    "        return 1\n",
    "    else:\n",
    "        return 2\n",
    "def AO_label(score):\n",
    "    if(score>=0 and score<=30):\n",
    "        return 0\n",
    "    elif(score>=31 and score<=40):\n",
    "        return 1\n",
    "    else:\n",
    "        return 2\n",
    "def C3_label(score):\n",
    "    if(score>=36 and score<=50):\n",
    "        return 0\n",
    "    elif(score>=26 and score<=35):\n",
    "        return 1\n",
    "    else:\n",
    "        return 2\n",
    "def I_smoothing(x):\n",
    "    return(((8-x)*math.exp(0.6*x)+221.406)/29.591)\n",
    "def C_smoothing(x):\n",
    "    return(((12-x)*math.exp(0.15*x)-11.572)/0.327)\n",
    "def A_smoothing(x):\n",
    "    return((2+((x-2)*math.exp(-0.32*x)))/0.261)\n",
    "def identity(x):\n",
    "    return x\n",
    "functions={\n",
    "    'EI':I_label,\n",
    "    'WI':I_label,\n",
    "    'EC':C_label,\n",
    "    'WC':C_label,\n",
    "    'EA':A_label,\n",
    "    'WA':A_label,\n",
    "    'AM':AM_LC_label,\n",
    "    'LC':AM_LC_label,\n",
    "    'MC':rest_label,\n",
    "    'ND':rest_label,\n",
    "    'PfW':rest_label,\n",
    "    'SE':rest_label,\n",
    "    'E':EN_label,\n",
    "    'A':AO_label,\n",
    "    'C':C3_label,\n",
    "    'N':EN_label,\n",
    "    'O':AO_label\n",
    "}\n",
    "smoothing={\n",
    "    'EI':I_smoothing,\n",
    "    'WI':I_smoothing,\n",
    "    'EC':C_smoothing,\n",
    "    'WC':C_smoothing,\n",
    "    'EA':A_smoothing,\n",
    "    'WA':A_smoothing,\n",
    "    'AM':identity,\n",
    "    'LC':identity,\n",
    "    'MC':identity,\n",
    "    'ND':identity,\n",
    "    'PfW':identity,\n",
    "    'SE':identity,\n",
    "    'E':identity,\n",
    "    'A':identity,\n",
    "    'C':identity,\n",
    "    'N':identity,\n",
    "    'O':identity\n",
    "}"
   ]
  },
  {
   "cell_type": "code",
   "execution_count": 12,
   "id": "d5161460",
   "metadata": {},
   "outputs": [
    {
     "name": "stdout",
     "output_type": "stream",
     "text": [
      "EI: alpha1=0.7660392196218342, alpha2=0.7660392196218343\n",
      "WI: alpha1=0.8391245247600587, alpha2=0.8391245247600587\n",
      "EC: alpha1=0.7568966939559056, alpha2=0.7568966939559055\n",
      "WC: alpha1=0.8549385854606065, alpha2=0.8549385854606065\n",
      "EA: alpha1=0.7798712692306041, alpha2=0.7798712692306041\n",
      "WA: alpha1=0.7076473273547637, alpha2=0.7076473273547634\n",
      "AM: alpha1=0.3149583758747311, alpha2=0.3149583758747309\n",
      "LC: alpha1=0.603000654580849, alpha2=0.6030006545808486\n",
      "MC: alpha1=0.7258106967185578, alpha2=0.7258106967185582\n",
      "ND: alpha1=0.4990860498584744, alpha2=0.49908604985847516\n",
      "PfW: alpha1=0.6387601787309714, alpha2=0.6387601787309716\n",
      "SE: alpha1=0.722150865708604, alpha2=0.722150865708604\n",
      "E: alpha1=0.7036938063712402, alpha2=0.7036938063712401\n",
      "A: alpha1=0.6888833804800116, alpha2=0.6888833804800117\n",
      "C: alpha1=0.6740799661251338, alpha2=0.6740799661251339\n",
      "N: alpha1=0.8142940895270674, alpha2=0.8142940895270672\n",
      "O: alpha1=0.7036003256893304, alpha2=0.7036003256893303\n"
     ]
    }
   ],
   "source": [
    "traits=['EI','WI','EC','WC','EA','WA','AM','LC','MC','ND','PfW','SE','E','A','C','N','O']\n",
    "for trait in traits:\n",
    "    indices=questions[trait]\n",
    "    columns=[f'feature{i}' for i in indices]\n",
    "    items=df[columns].values\n",
    "    cba1=cronbach_alpha1(items)\n",
    "    cba2=cronbach_alpha2(items)\n",
    "    print(f'{trait}: alpha1={cba1}, alpha2={cba2}')"
   ]
  },
  {
   "cell_type": "code",
   "execution_count": 14,
   "id": "8b872c61",
   "metadata": {},
   "outputs": [
    {
     "name": "stdout",
     "output_type": "stream",
     "text": [
      "alpha1=0.7534507996324709, alpha2=0.7534507996324707\n"
     ]
    }
   ],
   "source": [
    "items=df[traits].values\n",
    "cba1=cronbach_alpha1(items)\n",
    "cba2=cronbach_alpha2(items)\n",
    "print(f'alpha1={cba1}, alpha2={cba2}')"
   ]
  },
  {
   "cell_type": "code",
   "execution_count": 16,
   "id": "fdfd250b",
   "metadata": {},
   "outputs": [
    {
     "name": "stdout",
     "output_type": "stream",
     "text": [
      "alpha1=0.9568966319545564, alpha2=0.9568966319545565\n"
     ]
    }
   ],
   "source": [
    "index=['CXI','BXI','TXI']\n",
    "items=df[index].values\n",
    "cba1=cronbach_alpha1(items)\n",
    "cba2=cronbach_alpha2(items)\n",
    "print(f'alpha1={cba1}, alpha2={cba2}')"
   ]
  },
  {
   "cell_type": "code",
   "execution_count": 19,
   "id": "1988f6ac",
   "metadata": {},
   "outputs": [
    {
     "name": "stdout",
     "output_type": "stream",
     "text": [
      "alpha1=0.09105068625024992, alpha2=0.09105068625024981\n"
     ]
    }
   ],
   "source": [
    "tests=['Test-1','Test-2','Test-3']\n",
    "items=df[tests].values\n",
    "cba1=cronbach_alpha1(items)\n",
    "cba2=cronbach_alpha2(items)\n",
    "print(f'alpha1={cba1}, alpha2={cba2}')"
   ]
  },
  {
   "cell_type": "code",
   "execution_count": 22,
   "id": "cfb92d87",
   "metadata": {},
   "outputs": [
    {
     "name": "stdout",
     "output_type": "stream",
     "text": [
      "alpha1=0.7275577971288005, alpha2=0.7275577971288006\n"
     ]
    }
   ],
   "source": [
    "X=[]\n",
    "for trait in traits:\n",
    "    x=[smoothing[trait](i) for i in list(df[trait])]\n",
    "    X.append(x)\n",
    "items=np.transpose(np.array(X))\n",
    "cba1=cronbach_alpha1(items)\n",
    "cba2=cronbach_alpha2(items)\n",
    "print(f'alpha1={cba1}, alpha2={cba2}')"
   ]
  },
  {
   "cell_type": "code",
   "execution_count": 24,
   "id": "01ad8f0d",
   "metadata": {},
   "outputs": [
    {
     "name": "stdout",
     "output_type": "stream",
     "text": [
      "alpha1=0.9587917108830185, alpha2=0.9587917108830185\n"
     ]
    }
   ],
   "source": [
    "features=[f'feature{i}' for i in range(124)]\n",
    "items=df[features].values\n",
    "cba1=cronbach_alpha1(items)\n",
    "cba2=cronbach_alpha2(items)\n",
    "print(f'alpha1={cba1}, alpha2={cba2}')"
   ]
  },
  {
   "cell_type": "code",
   "execution_count": 26,
   "id": "9961ac18",
   "metadata": {},
   "outputs": [
    {
     "name": "stdout",
     "output_type": "stream",
     "text": [
      "alpha1=0.8763243254828517, alpha2=0.8763243254828517\n"
     ]
    }
   ],
   "source": [
    "items=df.values\n",
    "cba1=cronbach_alpha1(items)\n",
    "cba2=cronbach_alpha2(items)\n",
    "print(f'alpha1={cba1}, alpha2={cba2}')"
   ]
  },
  {
   "cell_type": "code",
   "execution_count": 28,
   "id": "fec64953",
   "metadata": {},
   "outputs": [
    {
     "name": "stdout",
     "output_type": "stream",
     "text": [
      "EI - [2, 4] : 0.5496148693331777\n",
      "EI - [0, 10] : 0.4790914049147734\n",
      "EI - [6, 15] : 0.48350114301085756\n",
      "WI - [30, 33, 38, 44, 47, 50] : 0.7943606674031765\n",
      "EC - [29, 46] : 0.5822957691603403\n",
      "EC - [32, 49, 53] : 0.6893786510892645\n",
      "EC - [35, 52] : 0.5165897424069179\n",
      "WC - [1, 17] : 0.5379308577273818\n",
      "WC - [5, 21, 25] : 0.7374804515673352\n",
      "WC - [9, 23] : 0.6910403630804625\n",
      "EA - [3, 7, 20, 26] : 0.7410540315887434\n",
      "EA - [11, 22] : 0.5748919939809984\n",
      "EA - [18, 24] : 0.5488589950290044\n",
      "WA - [34, 39, 45, 51] : 0.6277589874918169\n",
      "WA - [31, 42, 28] : 0.6109010075951323\n",
      "E - [79, 99] : 0.6174779483709574\n",
      "A - [80, 105] : 0.03419978776100496\n",
      "N - [92, 122] : 0.2853113982168449\n",
      "O - [88, 103] : 0.006443918545398164\n",
      "O - [98, 123] : 0.6350686873747209\n"
     ]
    }
   ],
   "source": [
    "similar_sets={\n",
    "    'EI':[[2,4],[0,10],[6,15]],\n",
    "    'WI':[[30,33,38,44,47,50]],\n",
    "    'EC':[[29,46],[32,49,53],[35,52]],\n",
    "    'WC':[[1,17],[5,21,25],[9,23]],\n",
    "    'EA':[[3,7,20,26],[11,22],[18,24]],\n",
    "    'WA':[[34,39,45,51],[31,42,28]],\n",
    "    'E':[[79,99]],\n",
    "    'A':[[80,105]],\n",
    "    'N':[[92,122]],\n",
    "    'O':[[88,103],[98,123]]\n",
    "}\n",
    "for trait in traits:\n",
    "    if trait in similar_sets:\n",
    "        for ques in similar_sets[trait]:\n",
    "            col=[f'feature{i}' for i in ques]\n",
    "            items=df[col].values\n",
    "            cba=cronbach_alpha1(items)\n",
    "            print(f'{trait} - {ques} : {cba}')"
   ]
  },
  {
   "cell_type": "code",
   "execution_count": null,
   "id": "17a45b1b",
   "metadata": {},
   "outputs": [],
   "source": []
  }
 ],
 "metadata": {
  "kernelspec": {
   "display_name": "Python 3 (ipykernel)",
   "language": "python",
   "name": "python3"
  },
  "language_info": {
   "codemirror_mode": {
    "name": "ipython",
    "version": 3
   },
   "file_extension": ".py",
   "mimetype": "text/x-python",
   "name": "python",
   "nbconvert_exporter": "python",
   "pygments_lexer": "ipython3",
   "version": "3.9.7"
  }
 },
 "nbformat": 4,
 "nbformat_minor": 5
}
