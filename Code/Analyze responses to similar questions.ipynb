{
 "cells": [
  {
   "cell_type": "code",
   "execution_count": 35,
   "id": "bf4b5cb3",
   "metadata": {},
   "outputs": [],
   "source": [
    "import pandas as pd\n",
    "import numpy as np\n",
    "import matplotlib.pyplot as plt\n",
    "import seaborn as sns\n",
    "from scipy.stats import pearsonr, spearmanr\n",
    "from scipy.special import rel_entr\n",
    "import pickle\n",
    "import math\n",
    "from sklearn.model_selection import train_test_split\n",
    "from sklearn.ensemble import RandomForestClassifier\n",
    "from sklearn.linear_model import LogisticRegression,LinearRegression\n",
    "from sklearn.neural_network import MLPClassifier,MLPRegressor\n",
    "from sklearn.svm import SVC\n",
    "from sklearn.metrics import accuracy_score, classification_report, confusion_matrix,mean_squared_error\n",
    "from itertools import combinations"
   ]
  },
  {
   "cell_type": "code",
   "execution_count": 36,
   "id": "40ce3fa3",
   "metadata": {},
   "outputs": [],
   "source": [
    "similar_sets={\n",
    "    'EI':[[2,4],[0,10],[6,15]],\n",
    "    'WI':[[30,33,38,44,47,50]],\n",
    "    'EC':[[29,46],[32,49,53],[35,52]],\n",
    "    'WC':[[1,17],[5,21,25],[9,23]],\n",
    "    'EA':[[3,7,20,26],[11,22],[18,24]],\n",
    "    'WA':[[34,39,45,51],[31,42,28]],\n",
    "    'E':[[79,99]],\n",
    "    'A':[[80,105]],\n",
    "    'C':[],\n",
    "    'N':[[92,122]],\n",
    "    'O':[[88,103],[98,123]]\n",
    "}\n",
    "df=pd.read_csv('CSV/Labelled_data.csv')"
   ]
  },
  {
   "cell_type": "code",
   "execution_count": 37,
   "id": "d6f8d00d",
   "metadata": {},
   "outputs": [],
   "source": [
    "def find_similarity(trait):\n",
    "    sets=similar_sets[trait]\n",
    "    m=df.shape[0]\n",
    "    for ques_set in sets:\n",
    "        l=len(ques_set)\n",
    "        pear_corr=np.zeros((l,l),dtype=np.float64)\n",
    "        dist=np.zeros((l,l),dtype=np.float64)\n",
    "        cos_sim=np.zeros((l,l),dtype=np.float64)\n",
    "        for i in range(l):\n",
    "            for j in range(l):\n",
    "                d1=np.array(list(df[f'feature{ques_set[i]}']))\n",
    "                d2=np.array(list(df[f'feature{ques_set[j]}']))\n",
    "                pear_corr[i][j],_=pearsonr(d1,d2)\n",
    "#                 pear_corr[i][j]==pear_corr[i][j]\n",
    "                dist[i][j]=sum(abs(x - y) for x, y in zip(d1,d2))/m\n",
    "                dot_product = np.dot(d1,d2)\n",
    "                magnitude1 = np.linalg.norm(d1)\n",
    "                magnitude2 = np.linalg.norm(d2)\n",
    "                cos_sim[i][j] = dot_product / (magnitude1 * magnitude2)\n",
    "        print(ques_set)\n",
    "#         plt.imshow(pear_corr, cmap='viridis', interpolation='nearest')\n",
    "#         plt.colorbar()\n",
    "#         plt.title('Pearson Correlation')\n",
    "#         plt.show()\n",
    "        print(f'Correlation matrix {pear_corr}')\n",
    "        print(f'Average Distance {dist}')\n",
    "        print(f'Cosine similarity {cos_sim}')"
   ]
  },
  {
   "cell_type": "code",
   "execution_count": 38,
   "id": "633e7ae5",
   "metadata": {},
   "outputs": [
    {
     "name": "stdout",
     "output_type": "stream",
     "text": [
      "[2, 4]\n",
      "Correlation matrix [[1.         0.37915974]\n",
      " [0.37915974 1.        ]]\n",
      "Average Distance [[0.         0.39155301]\n",
      " [0.39155301 0.        ]]\n",
      "Cosine similarity [[1.         0.59286057]\n",
      " [0.59286057 1.        ]]\n",
      "[0, 10]\n",
      "Correlation matrix [[1.         0.31767717]\n",
      " [0.31767717 1.        ]]\n",
      "Average Distance [[0.         0.39058513]\n",
      " [0.39058513 0.        ]]\n",
      "Cosine similarity [[1.         0.65724471]\n",
      " [0.65724471 1.        ]]\n",
      "[6, 15]\n",
      "Correlation matrix [[1.         0.32029451]\n",
      " [0.32029451 1.        ]]\n",
      "Average Distance [[0.         0.43625165]\n",
      " [0.43625165 0.        ]]\n",
      "Cosine similarity [[1.         0.54737125]\n",
      " [0.54737125 1.        ]]\n"
     ]
    }
   ],
   "source": [
    "find_similarity('EI')"
   ]
  },
  {
   "cell_type": "code",
   "execution_count": 39,
   "id": "0951dac2",
   "metadata": {},
   "outputs": [
    {
     "name": "stdout",
     "output_type": "stream",
     "text": [
      "[30, 33, 38, 44, 47, 50]\n",
      "Correlation matrix [[1.         0.35926768 0.41755049 0.3781418  0.36733391 0.34893228]\n",
      " [0.35926768 1.         0.39806349 0.33695781 0.38997586 0.34781575]\n",
      " [0.41755049 0.39806349 1.         0.39402721 0.388694   0.41033173]\n",
      " [0.3781418  0.33695781 0.39402721 1.         0.42074583 0.46237444]\n",
      " [0.36733391 0.38997586 0.388694   0.42074583 1.         0.45378122]\n",
      " [0.34893228 0.34781575 0.41033173 0.46237444 0.45378122 1.        ]]\n",
      "Average Distance [[0.         0.39046403 0.36541688 0.40802151 0.41349654 0.42947757]\n",
      " [0.39046403 0.         0.37247849 0.43512712 0.40047062 0.42851016]\n",
      " [0.36541688 0.37247849 0.         0.40252567 0.39801078 0.39885756]\n",
      " [0.40802151 0.43512712 0.40252567 0.         0.39132209 0.37404311]\n",
      " [0.41349654 0.40047062 0.39801078 0.39132209 0.         0.38190722]\n",
      " [0.42947757 0.42851016 0.39885756 0.37404311 0.38190722 0.        ]]\n",
      "Cosine similarity [[1.         0.60361983 0.64171916 0.57630463 0.57510503 0.54392538]\n",
      " [0.60361983 1.         0.63405079 0.55196757 0.59332715 0.54607015]\n",
      " [0.64171916 0.63405079 1.         0.59144454 0.59412615 0.58973122]\n",
      " [0.57630463 0.55196757 0.59144454 1.         0.58532147 0.60287446]\n",
      " [0.57510503 0.59332715 0.59412615 0.58532147 1.         0.60006694]\n",
      " [0.54392538 0.54607015 0.58973122 0.60287446 0.60006694 1.        ]]\n"
     ]
    }
   ],
   "source": [
    "find_similarity('WI')"
   ]
  },
  {
   "cell_type": "code",
   "execution_count": 40,
   "id": "2eb5b9b6",
   "metadata": {},
   "outputs": [
    {
     "name": "stdout",
     "output_type": "stream",
     "text": [
      "[29, 46]\n",
      "Correlation matrix [[1.         0.41127556]\n",
      " [0.41127556 1.        ]]\n",
      "Average Distance [[0.         0.47776636]\n",
      " [0.47776636 0.        ]]\n",
      "Cosine similarity [[1.         0.46512625]\n",
      " [0.46512625 1.        ]]\n",
      "[32, 49, 53]\n",
      "Correlation matrix [[1.         0.39804655 0.38099072]\n",
      " [0.39804655 1.         0.49410913]\n",
      " [0.38099072 0.49410913 1.        ]]\n",
      "Average Distance [[0.         0.43717076 0.44218596]\n",
      " [0.43717076 0.         0.37898984]\n",
      " [0.44218596 0.37898984 0.        ]]\n",
      "Cosine similarity [[1.         0.55334312 0.53637456]\n",
      " [0.55334312 1.         0.59380104]\n",
      " [0.53637456 0.59380104 1.        ]]\n",
      "[35, 52]\n",
      "Correlation matrix [[1.         0.34832401]\n",
      " [0.34832401 1.        ]]\n",
      "Average Distance [[0.         0.44770826]\n",
      " [0.44770826 0.        ]]\n",
      "Cosine similarity [[1.         0.53635987]\n",
      " [0.53635987 1.        ]]\n"
     ]
    }
   ],
   "source": [
    "find_similarity('EC')"
   ]
  },
  {
   "cell_type": "code",
   "execution_count": 41,
   "id": "c0d889a5",
   "metadata": {},
   "outputs": [
    {
     "name": "stdout",
     "output_type": "stream",
     "text": [
      "[1, 17]\n",
      "Correlation matrix [[1.       0.367933]\n",
      " [0.367933 1.      ]]\n",
      "Average Distance [[0.        0.4695414]\n",
      " [0.4695414 0.       ]]\n",
      "Cosine similarity [[1.         0.43938945]\n",
      " [0.43938945 1.        ]]\n",
      "[5, 21, 25]\n",
      "Correlation matrix [[1.         0.51784316 0.43060729]\n",
      " [0.51784316 1.         0.50271146]\n",
      " [0.43060729 0.50271146 1.        ]]\n",
      "Average Distance [[0.         0.46095863 0.51558554]\n",
      " [0.46095863 0.         0.45630729]\n",
      " [0.51558554 0.45630729 0.        ]]\n",
      "Cosine similarity [[1.         0.51800868 0.43075541]\n",
      " [0.51800868 1.         0.50486266]\n",
      " [0.43075541 0.50486266 1.        ]]\n",
      "[9, 23]\n",
      "Correlation matrix [[1.         0.52800536]\n",
      " [0.52800536 1.        ]]\n",
      "Average Distance [[0.         0.45363169]\n",
      " [0.45363169 0.        ]]\n",
      "Cosine similarity [[1.         0.52542273]\n",
      " [0.52542273 1.        ]]\n"
     ]
    }
   ],
   "source": [
    "find_similarity('WC')"
   ]
  },
  {
   "cell_type": "code",
   "execution_count": 42,
   "id": "dc43879c",
   "metadata": {},
   "outputs": [
    {
     "name": "stdout",
     "output_type": "stream",
     "text": [
      "[3, 7, 20, 26]\n",
      "Correlation matrix [[1.         0.43774878 0.38489712 0.35868848]\n",
      " [0.43774878 1.         0.41563505 0.44091307]\n",
      " [0.38489712 0.41563505 1.         0.46507863]\n",
      " [0.35868848 0.44091307 0.46507863 1.        ]]\n",
      "Average Distance [[0.         0.37184338 0.38600314 0.41320638]\n",
      " [0.37184338 0.         0.3926493  0.39922842]\n",
      " [0.38600314 0.3926493  0.         0.34768816]\n",
      " [0.41320638 0.39922842 0.34768816 0.        ]]\n",
      "Cosine similarity [[1.         0.66130425 0.66962057 0.62254905]\n",
      " [0.66130425 1.         0.6505042  0.64395592]\n",
      " [0.66962057 0.6505042  1.         0.68674818]\n",
      " [0.62254905 0.64395592 0.68674818 1.        ]]\n",
      "[11, 22]\n",
      "Correlation matrix [[1.         0.40379769]\n",
      " [0.40379769 1.        ]]\n",
      "Average Distance [[0.         0.40780555]\n",
      " [0.40780555 0.        ]]\n",
      "Cosine similarity [[1.         0.61942923]\n",
      " [0.61942923 1.        ]]\n",
      "[18, 24]\n",
      "Correlation matrix [[1.        0.3788138]\n",
      " [0.3788138 1.       ]]\n",
      "Average Distance [[0.         0.47731984]\n",
      " [0.47731984 0.        ]]\n",
      "Cosine similarity [[1.         0.44164926]\n",
      " [0.44164926 1.        ]]\n"
     ]
    }
   ],
   "source": [
    "find_similarity('EA')"
   ]
  },
  {
   "cell_type": "code",
   "execution_count": 43,
   "id": "92a4c2f5",
   "metadata": {},
   "outputs": [
    {
     "name": "stdout",
     "output_type": "stream",
     "text": [
      "[34, 39, 45, 51]\n",
      "Correlation matrix [[1.         0.30372007 0.32141081 0.32199698]\n",
      " [0.30372007 1.         0.21001353 0.21031083]\n",
      " [0.32141081 0.21001353 1.         0.40487908]\n",
      " [0.32199698 0.21031083 0.40487908 1.        ]]\n",
      "Average Distance [[0.         0.52123343 0.55094436 0.58767587]\n",
      " [0.52123343 0.         0.61473809 0.67483022]\n",
      " [0.55094436 0.61473809 0.         0.52952046]\n",
      " [0.58767587 0.67483022 0.52952046 0.        ]]\n",
      "Cosine similarity [[1.         0.3715799  0.34000646 0.29064754]\n",
      " [0.3715799  1.         0.24366737 0.14555328]\n",
      " [0.34000646 0.24366737 1.         0.38884409]\n",
      " [0.29064754 0.14555328 0.38884409 1.        ]]\n",
      "[31, 42, 28]\n",
      "Correlation matrix [[1.         0.38534329 0.32816608]\n",
      " [0.38534329 1.         0.31761594]\n",
      " [0.32816608 0.31761594 1.        ]]\n",
      "Average Distance [[0.         0.40089726 0.41215423]\n",
      " [0.40089726 0.         0.43825009]\n",
      " [0.41215423 0.43825009 0.        ]]\n",
      "Cosine similarity [[1.         0.6329828  0.61820306]\n",
      " [0.6329828  1.         0.57217411]\n",
      " [0.61820306 0.57217411 1.        ]]\n"
     ]
    }
   ],
   "source": [
    "find_similarity('WA')"
   ]
  },
  {
   "cell_type": "code",
   "execution_count": 44,
   "id": "9b4bb301",
   "metadata": {},
   "outputs": [
    {
     "name": "stdout",
     "output_type": "stream",
     "text": [
      "[79, 99]\n",
      "Correlation matrix [[1.         0.44677279]\n",
      " [0.44677279 1.        ]]\n",
      "Average Distance [[0.        0.4679331]\n",
      " [0.4679331 0.       ]]\n",
      "Cosine similarity [[1.         0.49536567]\n",
      " [0.49536567 1.        ]]\n"
     ]
    }
   ],
   "source": [
    "find_similarity('E')"
   ]
  },
  {
   "cell_type": "code",
   "execution_count": 45,
   "id": "a5aed46d",
   "metadata": {},
   "outputs": [
    {
     "name": "stdout",
     "output_type": "stream",
     "text": [
      "[80, 105]\n",
      "Correlation matrix [[1.         0.01771221]\n",
      " [0.01771221 1.        ]]\n",
      "Average Distance [[0.         0.83347998]\n",
      " [0.83347998 0.        ]]\n",
      "Cosine similarity [[ 1.         -0.04174163]\n",
      " [-0.04174163  1.        ]]\n"
     ]
    }
   ],
   "source": [
    "find_similarity('A')"
   ]
  },
  {
   "cell_type": "code",
   "execution_count": 46,
   "id": "ac2adf1e",
   "metadata": {},
   "outputs": [
    {
     "name": "stdout",
     "output_type": "stream",
     "text": [
      "[92, 122]\n",
      "Correlation matrix [[1.         0.16674323]\n",
      " [0.16674323 1.        ]]\n",
      "Average Distance [[0.         0.70325561]\n",
      " [0.70325561 0.        ]]\n",
      "Cosine similarity [[1.         0.12749442]\n",
      " [0.12749442 1.        ]]\n"
     ]
    }
   ],
   "source": [
    "find_similarity('N')"
   ]
  },
  {
   "cell_type": "code",
   "execution_count": 47,
   "id": "307e1480",
   "metadata": {},
   "outputs": [
    {
     "name": "stdout",
     "output_type": "stream",
     "text": [
      "[88, 103]\n",
      "Correlation matrix [[1.         0.00325436]\n",
      " [0.00325436 1.        ]]\n",
      "Average Distance [[0.        0.8324901]\n",
      " [0.8324901 0.       ]]\n",
      "Cosine similarity [[ 1.         -0.07648418]\n",
      " [-0.07648418  1.        ]]\n",
      "[98, 123]\n",
      "Correlation matrix [[1.         0.46527531]\n",
      " [0.46527531 1.        ]]\n",
      "Average Distance [[0.        0.4058513]\n",
      " [0.4058513 0.       ]]\n",
      "Cosine similarity [[1.         0.61401793]\n",
      " [0.61401793 1.        ]]\n"
     ]
    }
   ],
   "source": [
    "find_similarity('O')"
   ]
  }
 ],
 "metadata": {
  "kernelspec": {
   "display_name": "Python 3 (ipykernel)",
   "language": "python",
   "name": "python3"
  },
  "language_info": {
   "codemirror_mode": {
    "name": "ipython",
    "version": 3
   },
   "file_extension": ".py",
   "mimetype": "text/x-python",
   "name": "python",
   "nbconvert_exporter": "python",
   "pygments_lexer": "ipython3",
   "version": "3.9.7"
  }
 },
 "nbformat": 4,
 "nbformat_minor": 5
}
