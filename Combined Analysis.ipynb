{
 "cells": [
  {
   "cell_type": "code",
   "execution_count": 1,
   "id": "a1e10253",
   "metadata": {},
   "outputs": [],
   "source": [
    "import pandas as pd\n",
    "import numpy as np\n",
    "import matplotlib.pyplot as plt\n",
    "import seaborn as sns\n",
    "from scipy.stats import chi2\n",
    "from scipy.stats import beta\n",
    "import pickle\n",
    "from scipy.stats import pearsonr\n",
    "import math\n",
    "from sklearn.model_selection import train_test_split\n",
    "from sklearn.ensemble import RandomForestClassifier\n",
    "from sklearn.linear_model import LogisticRegression,LinearRegression\n",
    "from sklearn.neural_network import MLPClassifier,MLPRegressor\n",
    "from sklearn.svm import SVC\n",
    "from sklearn.metrics import accuracy_score, classification_report, confusion_matrix,mean_squared_error\n",
    "from itertools import combinations\n",
    "from tabulate import tabulate"
   ]
  },
  {
   "cell_type": "code",
   "execution_count": 2,
   "id": "83409542-40ea-4490-a4fd-d055e242100b",
   "metadata": {},
   "outputs": [],
   "source": [
    "split=13943"
   ]
  },
  {
   "cell_type": "code",
   "execution_count": 17,
   "id": "638ed562",
   "metadata": {},
   "outputs": [],
   "source": [
    "def ml(X,labels,split_index):\n",
    "    labels=np.array(labels)\n",
    "    X_train, X_test = X[:split_index], X[split_index:]\n",
    "    y_train, y_test = labels[:split_index], labels[split_index:]\n",
    "    logistic_regression_classifier = LogisticRegression(max_iter=1000, random_state=42)\n",
    "    logistic_regression_classifier.fit(X_train, y_train)\n",
    "    y_pred = logistic_regression_classifier.predict(X_test)\n",
    "    probabilities = logistic_regression_classifier.predict_proba(X_test)\n",
    "    confidences = np.max(probabilities, axis=1)\n",
    "    logistic_confidence=np.mean(confidences)\n",
    "    acc_logistic=accuracy_score(y_test, y_pred)\n",
    "    svm_classifier = SVC(kernel='rbf', C=1.0, random_state=42)\n",
    "    svm_classifier.fit(X_train, y_train)\n",
    "    y_pred = svm_classifier.predict(X_test)\n",
    "    confidence_scores = svm_classifier.decision_function(X_test)\n",
    "    svm_confidence=np.mean(np.abs(confidence_scores))\n",
    "    acc_svm=accuracy_score(y_test, y_pred)\n",
    "    h1=len(X_train[0])\n",
    "    mlp = MLPClassifier(hidden_layer_sizes=(2*h1,6), max_iter=500, random_state=42)\n",
    "    mlp.fit(X_train, y_train)\n",
    "    y_pred = mlp.predict(X_test)\n",
    "    probabilities = mlp.predict_proba(X_test)\n",
    "    confidences = np.max(probabilities, axis=1)\n",
    "    mlp_confidence=np.mean(confidences)\n",
    "    acc_mlp=accuracy_score(y_test, y_pred)\n",
    "    random_forest_classifier = RandomForestClassifier(n_estimators=100, random_state=42)\n",
    "    random_forest_classifier.fit(X_train, y_train)\n",
    "    y_pred = random_forest_classifier.predict(X_test)\n",
    "    probabilities = random_forest_classifier.predict_proba(X_test)\n",
    "    confidences = np.max(probabilities, axis=1)\n",
    "    rf_confidence=np.mean(confidences)\n",
    "    acc_rf=accuracy_score(y_test, y_pred)\n",
    "    data=[acc_logistic,acc_svm,acc_mlp,acc_rf]\n",
    "    print(data)\n",
    "    confidence=[logistic_confidence,svm_confidence,mlp_confidence,rf_confidence]\n",
    "    return confidence,data"
   ]
  },
  {
   "cell_type": "code",
   "execution_count": 19,
   "id": "cb5a3694",
   "metadata": {},
   "outputs": [],
   "source": [
    "def find_order():\n",
    "    truncate_index = split\n",
    "    truncated_df = df.iloc[:truncate_index]\n",
    "    indices=[i for i in range(124)]\n",
    "    f=len(indices)\n",
    "    y= list(truncated_df['Final Label'])\n",
    "    values=list(truncated_df['Composite'])\n",
    "    X=[]\n",
    "    for i in indices:\n",
    "        X.append(list(truncated_df[f'feature{i}']))\n",
    "    l=len(X[0])\n",
    "    corr_matrix=np.zeros((f,3))\n",
    "    weight_matrix=np.zeros((f,3))\n",
    "    for i in range(3):\n",
    "        c=[values[j] for j in range(l) if y[j]==i]\n",
    "        if(len(c)>0):\n",
    "            for j in range(f):\n",
    "                x_temp=[X[j][k] for k in range(l) if y[k]==i]\n",
    "                corr, _ = pearsonr(x_temp, c)\n",
    "                corr_matrix[j][i]=abs(corr)\n",
    "            x=list(corr_matrix[:,i])\n",
    "            rank_indices=np.argsort(x)\n",
    "            rank=1\n",
    "            for idx in rank_indices:\n",
    "                weight_matrix[idx][i]=rank\n",
    "                rank=rank+1\n",
    "    correlation=np.zeros((f,f))\n",
    "    for i in range(f):\n",
    "        for j in range(f):\n",
    "            x1=X[i][:]\n",
    "            x2=X[j][:]\n",
    "            corr, _ = pearsonr(x1,x2)\n",
    "            correlation[i][j]=corr\n",
    "    scores=[]\n",
    "    for i in range(f):\n",
    "        weight_sum=0\n",
    "        corr_sum=0\n",
    "        for j in range(3):\n",
    "            corr_sum=corr_sum+(corr_matrix[i][j]*weight_matrix[i][j])\n",
    "            weight_sum=weight_sum+weight_matrix[i][j]\n",
    "        scores.append((corr_sum*f)/(weight_sum*np.sum(correlation[i])))\n",
    "    rank_features=np.argsort(scores)\n",
    "    l=len(scores)-1\n",
    "    correct_order=[]\n",
    "    for i in range(f):\n",
    "        correct_order.append(indices[rank_features[l]])\n",
    "        l=l-1\n",
    "    return correct_order\n",
    "def correlation_algo(correct_order,index):\n",
    "    labels=list(df['Final Label'])\n",
    "    data=[]\n",
    "    confidence=[]\n",
    "    for i in range(1,124):\n",
    "        refined_set=correct_order[:i]\n",
    "        discarded_set=correct_order[i:]\n",
    "        print(f'Number of features: {i}')\n",
    "        columns=[f'feature{k}' for k in refined_set]\n",
    "        X1=df[columns].values\n",
    "        con,info=ml(X1,labels,index)\n",
    "        print(max(info))\n",
    "        data.append(info)\n",
    "        confidence.append(con)\n",
    "    return confidence,data"
   ]
  },
  {
   "cell_type": "code",
   "execution_count": null,
   "id": "aa2a9a22-e268-43b7-b26c-93fd9f30b5ee",
   "metadata": {},
   "outputs": [
    {
     "name": "stdout",
     "output_type": "stream",
     "text": [
      "Number of features: 1\n",
      "[0.6190214403518417, 0.6190214403518417, 0.6190214403518417, 0.6190214403518417]\n",
      "0.6190214403518417\n",
      "Number of features: 2\n",
      "[0.6190214403518417, 0.6190214403518417, 0.6190214403518417, 0.6190214403518417]\n",
      "0.6190214403518417\n",
      "Number of features: 3\n",
      "[0.6190214403518417, 0.6190214403518417, 0.6190214403518417, 0.6063771302913689]\n",
      "0.6190214403518417\n",
      "Number of features: 4\n",
      "[0.6190214403518417, 0.6190214403518417, 0.6190214403518417, 0.5898845519516218]\n",
      "0.6190214403518417\n",
      "Number of features: 5\n",
      "[0.6190214403518417, 0.6190214403518417, 0.6382627817482133, 0.5981308411214953]\n",
      "0.6382627817482133\n",
      "Number of features: 6\n"
     ]
    },
    {
     "name": "stderr",
     "output_type": "stream",
     "text": [
      "C:\\Users\\JBSCHOLOR-2020-18\\AppData\\Local\\Programs\\Python\\Python312\\Lib\\site-packages\\sklearn\\neural_network\\_multilayer_perceptron.py:691: ConvergenceWarning: Stochastic Optimizer: Maximum iterations (500) reached and the optimization hasn't converged yet.\n",
      "  warnings.warn(\n"
     ]
    },
    {
     "name": "stdout",
     "output_type": "stream",
     "text": [
      "[0.6190214403518417, 0.6190214403518417, 0.6443100604727873, 0.6091258933479934]\n",
      "0.6443100604727873\n",
      "Number of features: 7\n",
      "[0.6190214403518417, 0.6190214403518417, 0.6542056074766355, 0.6278174821330401]\n",
      "0.6542056074766355\n",
      "Number of features: 8\n"
     ]
    },
    {
     "name": "stderr",
     "output_type": "stream",
     "text": [
      "C:\\Users\\JBSCHOLOR-2020-18\\AppData\\Local\\Programs\\Python\\Python312\\Lib\\site-packages\\sklearn\\neural_network\\_multilayer_perceptron.py:691: ConvergenceWarning: Stochastic Optimizer: Maximum iterations (500) reached and the optimization hasn't converged yet.\n",
      "  warnings.warn(\n"
     ]
    },
    {
     "name": "stdout",
     "output_type": "stream",
     "text": [
      "[0.6195711929631665, 0.6190214403518417, 0.6525563496426608, 0.6377130291368884]\n",
      "0.6525563496426608\n",
      "Number of features: 9\n"
     ]
    },
    {
     "name": "stderr",
     "output_type": "stream",
     "text": [
      "C:\\Users\\JBSCHOLOR-2020-18\\AppData\\Local\\Programs\\Python\\Python312\\Lib\\site-packages\\sklearn\\neural_network\\_multilayer_perceptron.py:691: ConvergenceWarning: Stochastic Optimizer: Maximum iterations (500) reached and the optimization hasn't converged yet.\n",
      "  warnings.warn(\n"
     ]
    },
    {
     "name": "stdout",
     "output_type": "stream",
     "text": [
      "[0.6201209455744915, 0.6190214403518417, 0.6542056074766355, 0.6608026388125343]\n",
      "0.6608026388125343\n",
      "Number of features: 10\n"
     ]
    },
    {
     "name": "stderr",
     "output_type": "stream",
     "text": [
      "C:\\Users\\JBSCHOLOR-2020-18\\AppData\\Local\\Programs\\Python\\Python312\\Lib\\site-packages\\sklearn\\neural_network\\_multilayer_perceptron.py:691: ConvergenceWarning: Stochastic Optimizer: Maximum iterations (500) reached and the optimization hasn't converged yet.\n",
      "  warnings.warn(\n"
     ]
    },
    {
     "name": "stdout",
     "output_type": "stream",
     "text": [
      "[0.6201209455744915, 0.6212204507971413, 0.6586036283672347, 0.6536558548653106]\n",
      "0.6586036283672347\n",
      "Number of features: 11\n"
     ]
    },
    {
     "name": "stderr",
     "output_type": "stream",
     "text": [
      "C:\\Users\\JBSCHOLOR-2020-18\\AppData\\Local\\Programs\\Python\\Python312\\Lib\\site-packages\\sklearn\\neural_network\\_multilayer_perceptron.py:691: ConvergenceWarning: Stochastic Optimizer: Maximum iterations (500) reached and the optimization hasn't converged yet.\n",
      "  warnings.warn(\n"
     ]
    },
    {
     "name": "stdout",
     "output_type": "stream",
     "text": [
      "[0.622869708631116, 0.6201209455744915, 0.6558548653106102, 0.645959318306762]\n",
      "0.6558548653106102\n",
      "Number of features: 12\n"
     ]
    },
    {
     "name": "stderr",
     "output_type": "stream",
     "text": [
      "C:\\Users\\JBSCHOLOR-2020-18\\AppData\\Local\\Programs\\Python\\Python312\\Lib\\site-packages\\sklearn\\neural_network\\_multilayer_perceptron.py:691: ConvergenceWarning: Stochastic Optimizer: Maximum iterations (500) reached and the optimization hasn't converged yet.\n",
      "  warnings.warn(\n"
     ]
    },
    {
     "name": "stdout",
     "output_type": "stream",
     "text": [
      "[0.622869708631116, 0.6217702034084662, 0.6432105552501375, 0.6470588235294118]\n",
      "0.6470588235294118\n",
      "Number of features: 13\n"
     ]
    },
    {
     "name": "stderr",
     "output_type": "stream",
     "text": [
      "C:\\Users\\JBSCHOLOR-2020-18\\AppData\\Local\\Programs\\Python\\Python312\\Lib\\site-packages\\sklearn\\neural_network\\_multilayer_perceptron.py:691: ConvergenceWarning: Stochastic Optimizer: Maximum iterations (500) reached and the optimization hasn't converged yet.\n",
      "  warnings.warn(\n"
     ]
    },
    {
     "name": "stdout",
     "output_type": "stream",
     "text": [
      "[0.622869708631116, 0.6234194612424409, 0.6437603078614623, 0.6553051126992854]\n",
      "0.6553051126992854\n",
      "Number of features: 14\n"
     ]
    },
    {
     "name": "stderr",
     "output_type": "stream",
     "text": [
      "C:\\Users\\JBSCHOLOR-2020-18\\AppData\\Local\\Programs\\Python\\Python312\\Lib\\site-packages\\sklearn\\neural_network\\_multilayer_perceptron.py:691: ConvergenceWarning: Stochastic Optimizer: Maximum iterations (500) reached and the optimization hasn't converged yet.\n",
      "  warnings.warn(\n"
     ]
    },
    {
     "name": "stdout",
     "output_type": "stream",
     "text": [
      "[0.6245189664650908, 0.6327652556349642, 0.6432105552501375, 0.6635514018691588]\n",
      "0.6635514018691588\n",
      "Number of features: 15\n"
     ]
    },
    {
     "name": "stderr",
     "output_type": "stream",
     "text": [
      "C:\\Users\\JBSCHOLOR-2020-18\\AppData\\Local\\Programs\\Python\\Python312\\Lib\\site-packages\\sklearn\\neural_network\\_multilayer_perceptron.py:691: ConvergenceWarning: Stochastic Optimizer: Maximum iterations (500) reached and the optimization hasn't converged yet.\n",
      "  warnings.warn(\n"
     ]
    },
    {
     "name": "stdout",
     "output_type": "stream",
     "text": [
      "[0.6278174821330401, 0.6349642660802639, 0.657504123144585, 0.708631115997801]\n",
      "0.708631115997801\n",
      "Number of features: 16\n"
     ]
    },
    {
     "name": "stderr",
     "output_type": "stream",
     "text": [
      "C:\\Users\\JBSCHOLOR-2020-18\\AppData\\Local\\Programs\\Python\\Python312\\Lib\\site-packages\\sklearn\\neural_network\\_multilayer_perceptron.py:691: ConvergenceWarning: Stochastic Optimizer: Maximum iterations (500) reached and the optimization hasn't converged yet.\n",
      "  warnings.warn(\n"
     ]
    },
    {
     "name": "stdout",
     "output_type": "stream",
     "text": [
      "[0.6250687190764156, 0.6432105552501375, 0.6448598130841121, 0.7212754260582738]\n",
      "0.7212754260582738\n",
      "Number of features: 17\n"
     ]
    },
    {
     "name": "stderr",
     "output_type": "stream",
     "text": [
      "C:\\Users\\JBSCHOLOR-2020-18\\AppData\\Local\\Programs\\Python\\Python312\\Lib\\site-packages\\sklearn\\neural_network\\_multilayer_perceptron.py:691: ConvergenceWarning: Stochastic Optimizer: Maximum iterations (500) reached and the optimization hasn't converged yet.\n",
      "  warnings.warn(\n"
     ]
    },
    {
     "name": "stdout",
     "output_type": "stream",
     "text": [
      "[0.6250687190764156, 0.6393622869708631, 0.6377130291368884, 0.7130291368884002]\n",
      "0.7130291368884002\n",
      "Number of features: 18\n"
     ]
    },
    {
     "name": "stderr",
     "output_type": "stream",
     "text": [
      "C:\\Users\\JBSCHOLOR-2020-18\\AppData\\Local\\Programs\\Python\\Python312\\Lib\\site-packages\\sklearn\\neural_network\\_multilayer_perceptron.py:691: ConvergenceWarning: Stochastic Optimizer: Maximum iterations (500) reached and the optimization hasn't converged yet.\n",
      "  warnings.warn(\n"
     ]
    },
    {
     "name": "stdout",
     "output_type": "stream",
     "text": [
      "[0.6272677295217153, 0.6410115448048378, 0.6245189664650908, 0.7097306212204508]\n",
      "0.7097306212204508\n",
      "Number of features: 19\n"
     ]
    },
    {
     "name": "stderr",
     "output_type": "stream",
     "text": [
      "C:\\Users\\JBSCHOLOR-2020-18\\AppData\\Local\\Programs\\Python\\Python312\\Lib\\site-packages\\sklearn\\neural_network\\_multilayer_perceptron.py:691: ConvergenceWarning: Stochastic Optimizer: Maximum iterations (500) reached and the optimization hasn't converged yet.\n",
      "  warnings.warn(\n"
     ]
    },
    {
     "name": "stdout",
     "output_type": "stream",
     "text": [
      "[0.6245189664650908, 0.6360637713029137, 0.5937328202308961, 0.6717976910390324]\n",
      "0.6717976910390324\n",
      "Number of features: 20\n"
     ]
    },
    {
     "name": "stderr",
     "output_type": "stream",
     "text": [
      "C:\\Users\\JBSCHOLOR-2020-18\\AppData\\Local\\Programs\\Python\\Python312\\Lib\\site-packages\\sklearn\\neural_network\\_multilayer_perceptron.py:691: ConvergenceWarning: Stochastic Optimizer: Maximum iterations (500) reached and the optimization hasn't converged yet.\n",
      "  warnings.warn(\n"
     ]
    },
    {
     "name": "stdout",
     "output_type": "stream",
     "text": [
      "[0.6256184716877405, 0.6470588235294118, 0.5953820780648708, 0.6646509070918087]\n",
      "0.6646509070918087\n",
      "Number of features: 21\n"
     ]
    },
    {
     "name": "stderr",
     "output_type": "stream",
     "text": [
      "C:\\Users\\JBSCHOLOR-2020-18\\AppData\\Local\\Programs\\Python\\Python312\\Lib\\site-packages\\sklearn\\neural_network\\_multilayer_perceptron.py:691: ConvergenceWarning: Stochastic Optimizer: Maximum iterations (500) reached and the optimization hasn't converged yet.\n",
      "  warnings.warn(\n"
     ]
    },
    {
     "name": "stdout",
     "output_type": "stream",
     "text": [
      "[0.6250687190764156, 0.6465090709180868, 0.576690489279824, 0.6701484332050577]\n",
      "0.6701484332050577\n",
      "Number of features: 22\n"
     ]
    },
    {
     "name": "stderr",
     "output_type": "stream",
     "text": [
      "C:\\Users\\JBSCHOLOR-2020-18\\AppData\\Local\\Programs\\Python\\Python312\\Lib\\site-packages\\sklearn\\neural_network\\_multilayer_perceptron.py:691: ConvergenceWarning: Stochastic Optimizer: Maximum iterations (500) reached and the optimization hasn't converged yet.\n",
      "  warnings.warn(\n"
     ]
    },
    {
     "name": "stdout",
     "output_type": "stream",
     "text": [
      "[0.6250687190764156, 0.6437603078614623, 0.6151731720725674, 0.6602528862012095]\n",
      "0.6602528862012095\n",
      "Number of features: 23\n"
     ]
    },
    {
     "name": "stderr",
     "output_type": "stream",
     "text": [
      "C:\\Users\\JBSCHOLOR-2020-18\\AppData\\Local\\Programs\\Python\\Python312\\Lib\\site-packages\\sklearn\\neural_network\\_multilayer_perceptron.py:691: ConvergenceWarning: Stochastic Optimizer: Maximum iterations (500) reached and the optimization hasn't converged yet.\n",
      "  warnings.warn(\n"
     ]
    },
    {
     "name": "stdout",
     "output_type": "stream",
     "text": [
      "[0.6250687190764156, 0.6454095656954371, 0.6091258933479934, 0.6657504123144585]\n",
      "0.6657504123144585\n",
      "Number of features: 24\n"
     ]
    },
    {
     "name": "stderr",
     "output_type": "stream",
     "text": [
      "C:\\Users\\JBSCHOLOR-2020-18\\AppData\\Local\\Programs\\Python\\Python312\\Lib\\site-packages\\sklearn\\neural_network\\_multilayer_perceptron.py:691: ConvergenceWarning: Stochastic Optimizer: Maximum iterations (500) reached and the optimization hasn't converged yet.\n",
      "  warnings.warn(\n"
     ]
    },
    {
     "name": "stdout",
     "output_type": "stream",
     "text": [
      "[0.6294667399670149, 0.6531061022539857, 0.6036283672347443, 0.6668499175371083]\n",
      "0.6668499175371083\n",
      "Number of features: 25\n"
     ]
    },
    {
     "name": "stderr",
     "output_type": "stream",
     "text": [
      "C:\\Users\\JBSCHOLOR-2020-18\\AppData\\Local\\Programs\\Python\\Python312\\Lib\\site-packages\\sklearn\\neural_network\\_multilayer_perceptron.py:691: ConvergenceWarning: Stochastic Optimizer: Maximum iterations (500) reached and the optimization hasn't converged yet.\n",
      "  warnings.warn(\n"
     ]
    },
    {
     "name": "stdout",
     "output_type": "stream",
     "text": [
      "[0.6283672347443651, 0.6558548653106102, 0.5887850467289719, 0.6602528862012095]\n",
      "0.6602528862012095\n",
      "Number of features: 26\n"
     ]
    },
    {
     "name": "stderr",
     "output_type": "stream",
     "text": [
      "C:\\Users\\JBSCHOLOR-2020-18\\AppData\\Local\\Programs\\Python\\Python312\\Lib\\site-packages\\sklearn\\neural_network\\_multilayer_perceptron.py:691: ConvergenceWarning: Stochastic Optimizer: Maximum iterations (500) reached and the optimization hasn't converged yet.\n",
      "  warnings.warn(\n"
     ]
    },
    {
     "name": "stdout",
     "output_type": "stream",
     "text": [
      "[0.6289169873556899, 0.6591533809785597, 0.6261682242990654, 0.6706981858163826]\n",
      "0.6706981858163826\n",
      "Number of features: 27\n"
     ]
    },
    {
     "name": "stderr",
     "output_type": "stream",
     "text": [
      "C:\\Users\\JBSCHOLOR-2020-18\\AppData\\Local\\Programs\\Python\\Python312\\Lib\\site-packages\\sklearn\\neural_network\\_multilayer_perceptron.py:691: ConvergenceWarning: Stochastic Optimizer: Maximum iterations (500) reached and the optimization hasn't converged yet.\n",
      "  warnings.warn(\n"
     ]
    },
    {
     "name": "stdout",
     "output_type": "stream",
     "text": [
      "[0.6283672347443651, 0.6613523914238593, 0.594282572842221, 0.6723474436503574]\n",
      "0.6723474436503574\n",
      "Number of features: 28\n"
     ]
    },
    {
     "name": "stderr",
     "output_type": "stream",
     "text": [
      "C:\\Users\\JBSCHOLOR-2020-18\\AppData\\Local\\Programs\\Python\\Python312\\Lib\\site-packages\\sklearn\\neural_network\\_multilayer_perceptron.py:691: ConvergenceWarning: Stochastic Optimizer: Maximum iterations (500) reached and the optimization hasn't converged yet.\n",
      "  warnings.warn(\n"
     ]
    },
    {
     "name": "stdout",
     "output_type": "stream",
     "text": [
      "[0.6289169873556899, 0.6580538757559098, 0.5849367784496976, 0.6739967014843321]\n",
      "0.6739967014843321\n",
      "Number of features: 29\n"
     ]
    },
    {
     "name": "stderr",
     "output_type": "stream",
     "text": [
      "C:\\Users\\JBSCHOLOR-2020-18\\AppData\\Local\\Programs\\Python\\Python312\\Lib\\site-packages\\sklearn\\neural_network\\_multilayer_perceptron.py:691: ConvergenceWarning: Stochastic Optimizer: Maximum iterations (500) reached and the optimization hasn't converged yet.\n",
      "  warnings.warn(\n"
     ]
    },
    {
     "name": "stdout",
     "output_type": "stream",
     "text": [
      "[0.6322155030236394, 0.65695437053326, 0.6041781198460693, 0.6673996701484332]\n",
      "0.6673996701484332\n",
      "Number of features: 30\n"
     ]
    },
    {
     "name": "stderr",
     "output_type": "stream",
     "text": [
      "C:\\Users\\JBSCHOLOR-2020-18\\AppData\\Local\\Programs\\Python\\Python312\\Lib\\site-packages\\sklearn\\neural_network\\_multilayer_perceptron.py:691: ConvergenceWarning: Stochastic Optimizer: Maximum iterations (500) reached and the optimization hasn't converged yet.\n",
      "  warnings.warn(\n"
     ]
    },
    {
     "name": "stdout",
     "output_type": "stream",
     "text": [
      "[0.6322155030236394, 0.657504123144585, 0.5689939527212754, 0.6673996701484332]\n",
      "0.6673996701484332\n",
      "Number of features: 31\n"
     ]
    },
    {
     "name": "stderr",
     "output_type": "stream",
     "text": [
      "C:\\Users\\JBSCHOLOR-2020-18\\AppData\\Local\\Programs\\Python\\Python312\\Lib\\site-packages\\sklearn\\neural_network\\_multilayer_perceptron.py:691: ConvergenceWarning: Stochastic Optimizer: Maximum iterations (500) reached and the optimization hasn't converged yet.\n",
      "  warnings.warn(\n"
     ]
    },
    {
     "name": "stdout",
     "output_type": "stream",
     "text": [
      "[0.6360637713029137, 0.662451896646509, 0.5926333150082463, 0.6690489279824079]\n",
      "0.6690489279824079\n",
      "Number of features: 32\n"
     ]
    },
    {
     "name": "stderr",
     "output_type": "stream",
     "text": [
      "C:\\Users\\JBSCHOLOR-2020-18\\AppData\\Local\\Programs\\Python\\Python312\\Lib\\site-packages\\sklearn\\neural_network\\_multilayer_perceptron.py:691: ConvergenceWarning: Stochastic Optimizer: Maximum iterations (500) reached and the optimization hasn't converged yet.\n",
      "  warnings.warn(\n"
     ]
    },
    {
     "name": "stdout",
     "output_type": "stream",
     "text": [
      "[0.6311159978009896, 0.6602528862012095, 0.5684442001099506, 0.6734469488730072]\n",
      "0.6734469488730072\n",
      "Number of features: 33\n"
     ]
    },
    {
     "name": "stderr",
     "output_type": "stream",
     "text": [
      "C:\\Users\\JBSCHOLOR-2020-18\\AppData\\Local\\Programs\\Python\\Python312\\Lib\\site-packages\\sklearn\\neural_network\\_multilayer_perceptron.py:691: ConvergenceWarning: Stochastic Optimizer: Maximum iterations (500) reached and the optimization hasn't converged yet.\n",
      "  warnings.warn(\n"
     ]
    },
    {
     "name": "stdout",
     "output_type": "stream",
     "text": [
      "[0.6305662451896646, 0.6602528862012095, 0.5816382627817482, 0.6706981858163826]\n",
      "0.6706981858163826\n",
      "Number of features: 34\n"
     ]
    },
    {
     "name": "stderr",
     "output_type": "stream",
     "text": [
      "C:\\Users\\JBSCHOLOR-2020-18\\AppData\\Local\\Programs\\Python\\Python312\\Lib\\site-packages\\sklearn\\neural_network\\_multilayer_perceptron.py:691: ConvergenceWarning: Stochastic Optimizer: Maximum iterations (500) reached and the optimization hasn't converged yet.\n",
      "  warnings.warn(\n"
     ]
    },
    {
     "name": "stdout",
     "output_type": "stream",
     "text": [
      "[0.6322155030236394, 0.6580538757559098, 0.5667949422759758, 0.6690489279824079]\n",
      "0.6690489279824079\n",
      "Number of features: 35\n"
     ]
    },
    {
     "name": "stderr",
     "output_type": "stream",
     "text": [
      "C:\\Users\\JBSCHOLOR-2020-18\\AppData\\Local\\Programs\\Python\\Python312\\Lib\\site-packages\\sklearn\\neural_network\\_multilayer_perceptron.py:691: ConvergenceWarning: Stochastic Optimizer: Maximum iterations (500) reached and the optimization hasn't converged yet.\n",
      "  warnings.warn(\n"
     ]
    },
    {
     "name": "stdout",
     "output_type": "stream",
     "text": [
      "[0.6327652556349642, 0.6564046179219352, 0.6014293567894448, 0.6712479384277076]\n",
      "0.6712479384277076\n",
      "Number of features: 36\n",
      "[0.6311159978009896, 0.657504123144585, 0.5722924683892249, 0.6739967014843321]\n",
      "0.6739967014843321\n",
      "Number of features: 37\n",
      "[0.6371632765255635, 0.662451896646509, 0.5948323254535459, 0.6690489279824079]\n",
      "0.6690489279824079\n",
      "Number of features: 38\n"
     ]
    },
    {
     "name": "stderr",
     "output_type": "stream",
     "text": [
      "C:\\Users\\JBSCHOLOR-2020-18\\AppData\\Local\\Programs\\Python\\Python312\\Lib\\site-packages\\sklearn\\neural_network\\_multilayer_perceptron.py:691: ConvergenceWarning: Stochastic Optimizer: Maximum iterations (500) reached and the optimization hasn't converged yet.\n",
      "  warnings.warn(\n"
     ]
    },
    {
     "name": "stdout",
     "output_type": "stream",
     "text": [
      "[0.6349642660802639, 0.6641011544804838, 0.6047278724573941, 0.6690489279824079]\n",
      "0.6690489279824079\n",
      "Number of features: 39\n",
      "[0.6338647608576141, 0.6646509070918087, 0.5854865310610226, 0.6734469488730072]\n",
      "0.6734469488730072\n",
      "Number of features: 40\n",
      "[0.6333150082462892, 0.6668499175371083, 0.6102253985706432, 0.6734469488730072]\n",
      "0.6734469488730072\n",
      "Number of features: 41\n",
      "[0.634414513468939, 0.6652006597031336, 0.5893347993402969, 0.6761957119296317]\n",
      "0.6761957119296317\n",
      "Number of features: 42\n",
      "[0.634414513468939, 0.6641011544804838, 0.6107751511819681, 0.6739967014843321]\n",
      "0.6739967014843321\n",
      "Number of features: 43\n",
      "[0.6294667399670149, 0.6602528862012095, 0.5948323254535459, 0.6745464540956569]\n",
      "0.6745464540956569\n",
      "Number of features: 44\n"
     ]
    },
    {
     "name": "stderr",
     "output_type": "stream",
     "text": [
      "C:\\Users\\JBSCHOLOR-2020-18\\AppData\\Local\\Programs\\Python\\Python312\\Lib\\site-packages\\sklearn\\neural_network\\_multilayer_perceptron.py:691: ConvergenceWarning: Stochastic Optimizer: Maximum iterations (500) reached and the optimization hasn't converged yet.\n",
      "  warnings.warn(\n"
     ]
    },
    {
     "name": "stdout",
     "output_type": "stream",
     "text": [
      "[0.6322155030236394, 0.662451896646509, 0.5849367784496976, 0.6695986805937328]\n",
      "0.6695986805937328\n",
      "Number of features: 45\n",
      "[0.6333150082462892, 0.663001649257834, 0.6091258933479934, 0.6679494227597581]\n",
      "0.6679494227597581\n",
      "Number of features: 46\n",
      "[0.6327652556349642, 0.6663001649257834, 0.6047278724573941, 0.6739967014843321]\n",
      "0.6739967014843321\n",
      "Number of features: 47\n",
      "[0.6316657504123144, 0.6652006597031336, 0.5992303463441452, 0.6706981858163826]\n",
      "0.6706981858163826\n",
      "Number of features: 48\n",
      "[0.6305662451896646, 0.6635514018691588, 0.6239692138537658, 0.6701484332050577]\n",
      "0.6701484332050577\n",
      "Number of features: 49\n",
      "[0.6311159978009896, 0.662451896646509, 0.5981308411214953, 0.6728971962616822]\n",
      "0.6728971962616822\n",
      "Number of features: 50\n",
      "[0.6305662451896646, 0.6646509070918087, 0.6030786146234195, 0.6767454645409565]\n",
      "0.6767454645409565\n",
      "Number of features: 51\n",
      "[0.6311159978009896, 0.6663001649257834, 0.582737768004398, 0.6745464540956569]\n",
      "0.6745464540956569\n",
      "Number of features: 52\n",
      "[0.6305662451896646, 0.6657504123144585, 0.5953820780648708, 0.6778449697636064]\n",
      "0.6778449697636064\n",
      "Number of features: 53\n",
      "[0.6322155030236394, 0.6657504123144585, 0.6151731720725674, 0.6745464540956569]\n",
      "0.6745464540956569\n",
      "Number of features: 54\n",
      "[0.6294667399670149, 0.6663001649257834, 0.6195711929631665, 0.6723474436503574]\n",
      "0.6723474436503574\n",
      "Number of features: 55\n",
      "[0.6311159978009896, 0.6679494227597581, 0.6179219351291919, 0.6756459593183067]\n",
      "0.6756459593183067\n",
      "Number of features: 56\n",
      "[0.6305662451896646, 0.6690489279824079, 0.6025288620120945, 0.6772952171522815]\n",
      "0.6772952171522815\n",
      "Number of features: 57\n",
      "[0.6305662451896646, 0.668499175371083, 0.5953820780648708, 0.6745464540956569]\n",
      "0.6745464540956569\n",
      "Number of features: 58\n",
      "[0.6300164925783397, 0.6690489279824079, 0.6063771302913689, 0.6739967014843321]\n",
      "0.6739967014843321\n",
      "Number of features: 59\n",
      "[0.6272677295217153, 0.668499175371083, 0.6327652556349642, 0.6756459593183067]\n",
      "0.6756459593183067\n",
      "Number of features: 60\n",
      "[0.6289169873556899, 0.6695986805937328, 0.6063771302913689, 0.6701484332050577]\n",
      "0.6701484332050577\n",
      "Number of features: 61\n",
      "[0.6289169873556899, 0.6706981858163826, 0.6113249037932931, 0.6761957119296317]\n",
      "0.6761957119296317\n",
      "Number of features: 62\n",
      "[0.6294667399670149, 0.6701484332050577, 0.6223199560197911, 0.6750962067069819]\n",
      "0.6750962067069819\n",
      "Number of features: 63\n",
      "[0.6278174821330401, 0.6723474436503574, 0.6212204507971413, 0.6756459593183067]\n",
      "0.6756459593183067\n",
      "Number of features: 64\n",
      "[0.6278174821330401, 0.668499175371083, 0.6025288620120945, 0.6750962067069819]\n",
      "0.6750962067069819\n",
      "Number of features: 65\n",
      "[0.6278174821330401, 0.6663001649257834, 0.6234194612424409, 0.6734469488730072]\n",
      "0.6734469488730072\n",
      "Number of features: 66\n",
      "[0.6294667399670149, 0.6663001649257834, 0.6256184716877405, 0.6778449697636064]\n",
      "0.6778449697636064\n",
      "Number of features: 67\n",
      "[0.6283672347443651, 0.6673996701484332, 0.6151731720725674, 0.6739967014843321]\n",
      "0.6739967014843321\n",
      "Number of features: 68\n",
      "[0.6256184716877405, 0.6690489279824079, 0.6267179769103903, 0.6778449697636064]\n",
      "0.6778449697636064\n",
      "Number of features: 69\n",
      "[0.6278174821330401, 0.6663001649257834, 0.6300164925783397, 0.6767454645409565]\n",
      "0.6767454645409565\n",
      "Number of features: 70\n",
      "[0.6272677295217153, 0.6663001649257834, 0.6278174821330401, 0.6772952171522815]\n",
      "0.6772952171522815\n",
      "Number of features: 71\n",
      "[0.6239692138537658, 0.6652006597031336, 0.6179219351291919, 0.6679494227597581]\n",
      "0.6679494227597581\n",
      "Number of features: 72\n",
      "[0.6217702034084662, 0.668499175371083, 0.6195711929631665, 0.6734469488730072]\n",
      "0.6734469488730072\n",
      "Number of features: 73\n",
      "[0.6267179769103903, 0.6679494227597581, 0.6256184716877405, 0.6734469488730072]\n",
      "0.6734469488730072\n",
      "Number of features: 74\n",
      "[0.6234194612424409, 0.6657504123144585, 0.6212204507971413, 0.6789444749862562]\n",
      "0.6789444749862562\n",
      "Number of features: 75\n",
      "[0.6239692138537658, 0.6657504123144585, 0.6085761407366685, 0.6761957119296317]\n",
      "0.6761957119296317\n",
      "Number of features: 76\n",
      "[0.6217702034084662, 0.6657504123144585, 0.6217702034084662, 0.6745464540956569]\n",
      "0.6745464540956569\n",
      "Number of features: 77\n",
      "[0.6272677295217153, 0.6635514018691588, 0.6212204507971413, 0.6728971962616822]\n",
      "0.6728971962616822\n",
      "Number of features: 78\n",
      "[0.6272677295217153, 0.6646509070918087, 0.616822429906542, 0.6728971962616822]\n",
      "0.6728971962616822\n",
      "Number of features: 79\n",
      "[0.6267179769103903, 0.6673996701484332, 0.6377130291368884, 0.6750962067069819]\n",
      "0.6750962067069819\n",
      "Number of features: 80\n",
      "[0.6278174821330401, 0.6663001649257834, 0.6069268829026938, 0.6756459593183067]\n",
      "0.6756459593183067\n",
      "Number of features: 81\n",
      "[0.6283672347443651, 0.662451896646509, 0.6190214403518417, 0.6728971962616822]\n",
      "0.6728971962616822\n",
      "Number of features: 82\n",
      "[0.6305662451896646, 0.6613523914238593, 0.6294667399670149, 0.6723474436503574]\n",
      "0.6723474436503574\n",
      "Number of features: 83\n",
      "[0.6261682242990654, 0.6668499175371083, 0.6195711929631665, 0.679494227597581]\n",
      "0.679494227597581\n",
      "Number of features: 84\n",
      "[0.6256184716877405, 0.6673996701484332, 0.6250687190764156, 0.6827927432655305]\n",
      "0.6827927432655305\n",
      "Number of features: 85\n",
      "[0.6278174821330401, 0.6668499175371083, 0.617372182517867, 0.6712479384277076]\n",
      "0.6712479384277076\n",
      "Number of features: 86\n",
      "[0.6261682242990654, 0.6679494227597581, 0.6146234194612424, 0.6739967014843321]\n",
      "0.6739967014843321\n",
      "Number of features: 87\n",
      "[0.6267179769103903, 0.6657504123144585, 0.6223199560197911, 0.6706981858163826]\n",
      "0.6706981858163826\n",
      "Number of features: 88\n",
      "[0.6278174821330401, 0.6679494227597581, 0.6371632765255635, 0.6783947223749313]\n",
      "0.6783947223749313\n",
      "Number of features: 89\n",
      "[0.622869708631116, 0.6690489279824079, 0.6289169873556899, 0.6756459593183067]\n",
      "0.6756459593183067\n",
      "Number of features: 90\n",
      "[0.6245189664650908, 0.668499175371083, 0.6366135239142386, 0.6756459593183067]\n",
      "0.6756459593183067\n",
      "Number of features: 91\n",
      "[0.6234194612424409, 0.6668499175371083, 0.6355140186915887, 0.6739967014843321]\n",
      "0.6739967014843321\n",
      "Number of features: 92\n",
      "[0.6272677295217153, 0.6668499175371083, 0.6162726772952172, 0.6767454645409565]\n",
      "0.6767454645409565\n",
      "Number of features: 93\n",
      "[0.6261682242990654, 0.6657504123144585, 0.6074766355140186, 0.6734469488730072]\n",
      "0.6734469488730072\n",
      "Number of features: 94\n",
      "[0.6261682242990654, 0.6652006597031336, 0.634414513468939, 0.6734469488730072]\n",
      "0.6734469488730072\n",
      "Number of features: 95\n",
      "[0.6261682242990654, 0.6657504123144585, 0.6322155030236394, 0.6778449697636064]\n",
      "0.6778449697636064\n",
      "Number of features: 96\n",
      "[0.6267179769103903, 0.6673996701484332, 0.6366135239142386, 0.6827927432655305]\n",
      "0.6827927432655305\n",
      "Number of features: 97\n",
      "[0.6267179769103903, 0.6652006597031336, 0.6124244090159429, 0.6789444749862562]\n",
      "0.6789444749862562\n",
      "Number of features: 98\n",
      "[0.6278174821330401, 0.6641011544804838, 0.6272677295217153, 0.6739967014843321]\n",
      "0.6739967014843321\n",
      "Number of features: 99\n",
      "[0.6294667399670149, 0.6646509070918087, 0.6206706981858163, 0.680043980208906]\n",
      "0.680043980208906\n",
      "Number of features: 100\n",
      "[0.6256184716877405, 0.6635514018691588, 0.6410115448048378, 0.6778449697636064]\n",
      "0.6778449697636064\n",
      "Number of features: 101\n",
      "[0.6239692138537658, 0.663001649257834, 0.6267179769103903, 0.6750962067069819]\n",
      "0.6750962067069819\n",
      "Number of features: 102\n",
      "[0.6212204507971413, 0.6635514018691588, 0.6388125343595382, 0.6811434854315558]\n",
      "0.6811434854315558\n",
      "Number of features: 103\n",
      "[0.6245189664650908, 0.6641011544804838, 0.6415612974161627, 0.680593732820231]\n",
      "0.680593732820231\n",
      "Number of features: 104\n",
      "[0.6234194612424409, 0.6652006597031336, 0.6300164925783397, 0.679494227597581]\n",
      "0.679494227597581\n",
      "Number of features: 105\n",
      "[0.6256184716877405, 0.6679494227597581, 0.6415612974161627, 0.6761957119296317]\n",
      "0.6761957119296317\n",
      "Number of features: 106\n",
      "[0.6223199560197911, 0.6679494227597581, 0.6465090709180868, 0.6767454645409565]\n",
      "0.6767454645409565\n",
      "Number of features: 107\n",
      "[0.6245189664650908, 0.6668499175371083, 0.6322155030236394, 0.6822429906542056]\n",
      "0.6822429906542056\n",
      "Number of features: 108\n",
      "[0.6261682242990654, 0.6646509070918087, 0.6360637713029137, 0.6745464540956569]\n",
      "0.6745464540956569\n",
      "Number of features: 109\n",
      "[0.622869708631116, 0.6646509070918087, 0.6289169873556899, 0.6750962067069819]\n",
      "0.6750962067069819\n",
      "Number of features: 110\n",
      "[0.622869708631116, 0.662451896646509, 0.6069268829026938, 0.6663001649257834]\n",
      "0.6663001649257834\n",
      "Number of features: 111\n",
      "[0.6212204507971413, 0.663001649257834, 0.6454095656954371, 0.6838922484881803]\n",
      "0.6838922484881803\n",
      "Number of features: 112\n",
      "[0.6195711929631665, 0.6646509070918087, 0.6151731720725674, 0.6750962067069819]\n",
      "0.6750962067069819\n",
      "Number of features: 113\n",
      "[0.6201209455744915, 0.662451896646509, 0.6305662451896646, 0.6706981858163826]\n",
      "0.6706981858163826\n",
      "Number of features: 114\n"
     ]
    }
   ],
   "source": [
    "df=pd.read_csv('CSV/Labelled_data.csv')\n",
    "headers=['Logistic','SVM','MLP','Random Forest']\n",
    "indices=[i for i in range(124)]\n",
    "f=len(indices)\n",
    "labels=list(df['Final Label'])\n",
    "l=len(labels)\n",
    "# correct_order=find_order()\n",
    "# print(correct_order)\n",
    "confidence,data=correlation_algo(correct_order,int(0.6*df.shape[0]))\n",
    "cols=[f'feature{k}' for k in indices]\n",
    "X=df[cols].values\n",
    "con,info=ml(X,labels,int(0.6*df.shape[0]))\n",
    "data.append(info)\n",
    "confidence.append(con)\n",
    "print(\"Accuracy on augmented data\")\n",
    "print(tabulate(data, headers=headers, tablefmt=\"grid\"))\n",
    "print(\"Confidence on augmented data\")\n",
    "print(tabulate(confidence, headers=headers, tablefmt=\"grid\"))\n",
    "file_path1='combined_accuracy.pkl'\n",
    "file_path2='combined_confidence.pkl'\n",
    "with open(file_path1,'wb') as f:\n",
    "    pickle.dump(data,f)\n",
    "with open(file_path2,'wb') as f:\n",
    "    pickle.dump(confidence,f)"
   ]
  },
  {
   "cell_type": "code",
   "execution_count": null,
   "id": "26a4d0d5-e05f-44ec-88c9-ed59a36e37fa",
   "metadata": {},
   "outputs": [],
   "source": [
    "#replaced the similar questions with the average response and used that for the analysis\n",
    "df=pd.read_csv('CSV/corrected.csv')\n",
    "headers=['Logistic','SVM','MLP','Random Forest']\n",
    "indices=[i for i in range(124)]\n",
    "f=len(indices)\n",
    "labels=list(df['Final Label'])\n",
    "l=len(labels)\n",
    "correct_order=find_order()\n",
    "print(correct_order)\n",
    "confidence,data=correlation_algo(correct_order,int(0.6*df.shape[0]))\n",
    "cols=[f'feature{k}' for k in indices]\n",
    "X=df[cols].values\n",
    "con,info=ml(X,labels,int(0.6*df.shape[0]))\n",
    "data.append(info)\n",
    "confidence.append(con)\n",
    "print(\"Accuracy on augmented data\")\n",
    "print(tabulate(data, headers=headers, tablefmt=\"grid\"))\n",
    "print(\"Confidence on augmented data\")\n",
    "print(tabulate(confidence, headers=headers, tablefmt=\"grid\"))\n",
    "file_path1='corrected_combined_accuracy.pkl'\n",
    "file_path2='corrected_combined_confidence.pkl'\n",
    "with open(file_path1,'wb') as f:\n",
    "    pickle.dump(data,f)\n",
    "with open(file_path2,'wb') as f:\n",
    "    pickle.dump(confidence,f)"
   ]
  },
  {
   "cell_type": "code",
   "execution_count": null,
   "id": "bda44d9b-f723-467c-96b8-feb477ffb01f",
   "metadata": {},
   "outputs": [],
   "source": [
    "#using augmented data\n",
    "df=pd.read_csv('CSV/augmented_data.csv')\n",
    "headers=['Logistic','SVM','MLP','Random Forest']\n",
    "indices=[i for i in range(124)]\n",
    "f=len(indices)\n",
    "labels=list(df['Final Label'])\n",
    "l=len(labels)\n",
    "correct_order=find_order()\n",
    "print(correct_order)\n",
    "confidence,data=correlation_algo(correct_order,split)\n",
    "cols=[f'feature{k}' for k in indices]\n",
    "X=df[cols].values\n",
    "con,info=ml(X,labels,split)\n",
    "data.append(info)\n",
    "confidence.append(con)\n",
    "print(\"Accuracy on augmented data\")\n",
    "print(tabulate(data, headers=headers, tablefmt=\"grid\"))\n",
    "print(\"Confidence on augmented data\")\n",
    "print(tabulate(confidence, headers=headers, tablefmt=\"grid\"))\n",
    "file_path1='augmented_combined_accuracy.pkl'\n",
    "file_path2='augmented_combined_confidence.pkl'\n",
    "with open(file_path1,'wb') as f:\n",
    "    pickle.dump(data,f)\n",
    "with open(file_path2,'wb') as f:\n",
    "    pickle.dump(confidence,f)"
   ]
  },
  {
   "cell_type": "code",
   "execution_count": null,
   "id": "312ec2e3-40c3-479c-a845-81bbaeeed1ac",
   "metadata": {},
   "outputs": [],
   "source": []
  },
  {
   "cell_type": "code",
   "execution_count": null,
   "id": "6426dedf-d98b-4a8d-9d38-fe54ea33a155",
   "metadata": {},
   "outputs": [],
   "source": []
  }
 ],
 "metadata": {
  "kernelspec": {
   "display_name": "Python 3 (ipykernel)",
   "language": "python",
   "name": "python3"
  },
  "language_info": {
   "codemirror_mode": {
    "name": "ipython",
    "version": 3
   },
   "file_extension": ".py",
   "mimetype": "text/x-python",
   "name": "python",
   "nbconvert_exporter": "python",
   "pygments_lexer": "ipython3",
   "version": "3.11.5"
  }
 },
 "nbformat": 4,
 "nbformat_minor": 5
}
