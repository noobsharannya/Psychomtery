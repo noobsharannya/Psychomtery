{
 "cells": [
  {
   "cell_type": "code",
   "execution_count": 1,
   "id": "a1e10253",
   "metadata": {},
   "outputs": [],
   "source": [
    "import pandas as pd\n",
    "import numpy as np\n",
    "import matplotlib.pyplot as plt\n",
    "import seaborn as sns\n",
    "from scipy.stats import chi2\n",
    "from scipy.stats import beta\n",
    "import pickle\n",
    "from scipy.stats import pearsonr\n",
    "import math\n",
    "from sklearn.model_selection import train_test_split\n",
    "from sklearn.ensemble import RandomForestClassifier\n",
    "from sklearn.linear_model import LogisticRegression,LinearRegression\n",
    "from sklearn.neural_network import MLPClassifier,MLPRegressor\n",
    "from sklearn.svm import SVC\n",
    "from sklearn.metrics import accuracy_score, classification_report, confusion_matrix,mean_squared_error\n",
    "from itertools import combinations\n",
    "from tabulate import tabulate"
   ]
  },
  {
   "cell_type": "code",
   "execution_count": 2,
   "id": "9e5633c7",
   "metadata": {},
   "outputs": [],
   "source": [
    "df=pd.read_csv('CSV/glove_data.csv')"
   ]
  },
  {
   "cell_type": "code",
   "execution_count": 3,
   "id": "638ed562",
   "metadata": {},
   "outputs": [],
   "source": [
    "def ml(X,labels):\n",
    "    split_index = 8759\n",
    "    labels=np.array(labels)\n",
    "    X_train, X_test = X[:split_index], X[split_index:]\n",
    "    y_train, y_test = labels[:split_index], labels[split_index:]\n",
    "    logistic_regression_classifier = LogisticRegression(max_iter=1000, random_state=42)\n",
    "    logistic_regression_classifier.fit(X_train, y_train)\n",
    "    y_pred = logistic_regression_classifier.predict(X_test)\n",
    "    probabilities = logistic_regression_classifier.predict_proba(X_test)\n",
    "    confidences = np.max(probabilities, axis=1)\n",
    "    logistic_confidence=np.mean(confidences)\n",
    "    acc_logistic=accuracy_score(y_test, y_pred)\n",
    "    svm_classifier = SVC(kernel='rbf', C=1.0, random_state=42)\n",
    "    svm_classifier.fit(X_train, y_train)\n",
    "    y_pred = svm_classifier.predict(X_test)\n",
    "    confidence_scores = svm_classifier.decision_function(X_test)\n",
    "    svm_confidence=np.mean(np.abs(confidence_scores))\n",
    "    acc_svm=accuracy_score(y_test, y_pred)\n",
    "    h1=len(X_train[0])\n",
    "    mlp = MLPClassifier(hidden_layer_sizes=(2*h1,6), max_iter=500, random_state=42)\n",
    "    mlp.fit(X_train, y_train)\n",
    "    y_pred = mlp.predict(X_test)\n",
    "    probabilities = mlp.predict_proba(X_test)\n",
    "    confidences = np.max(probabilities, axis=1)\n",
    "    mlp_confidence=np.mean(confidences)\n",
    "    acc_mlp=accuracy_score(y_test, y_pred)\n",
    "    random_forest_classifier = RandomForestClassifier(n_estimators=100, random_state=42)\n",
    "    random_forest_classifier.fit(X_train, y_train)\n",
    "    y_pred = random_forest_classifier.predict(X_test)\n",
    "    probabilities = random_forest_classifier.predict_proba(X_test)\n",
    "    confidences = np.max(probabilities, axis=1)\n",
    "    rf_confidence=np.mean(confidences)\n",
    "    acc_rf=accuracy_score(y_test, y_pred)\n",
    "    data=[acc_logistic,acc_svm,acc_mlp,acc_rf]\n",
    "    print(data)\n",
    "    confidence=[logistic_confidence,svm_confidence,mlp_confidence,rf_confidence]\n",
    "    return confidence,data"
   ]
  },
  {
   "cell_type": "code",
   "execution_count": 4,
   "id": "cb5a3694",
   "metadata": {},
   "outputs": [],
   "source": [
    "def find_order():\n",
    "    truncate_index = 8759\n",
    "    truncated_df = df.iloc[:truncate_index]\n",
    "    indices=[i for i in range(124)]\n",
    "    f=len(indices)\n",
    "    y= list(truncated_df['Final Label'])\n",
    "    values=list(truncated_df['Composite'])\n",
    "    X=[]\n",
    "    for i in indices:\n",
    "        X.append(list(truncated_df[f'feature{i}']))\n",
    "    l=len(X[0])\n",
    "    corr_matrix=np.zeros((f,3))\n",
    "    weight_matrix=np.zeros((f,3))\n",
    "    for i in range(3):\n",
    "        c=[values[j] for j in range(l) if y[j]==i]\n",
    "        if(len(c)>0):\n",
    "            for j in range(f):\n",
    "                x_temp=[X[j][k] for k in range(l) if y[k]==i]\n",
    "                corr, _ = pearsonr(x_temp, c)\n",
    "                corr_matrix[j][i]=abs(corr)\n",
    "            x=list(corr_matrix[:,i])\n",
    "            rank_indices=np.argsort(x)\n",
    "            rank=1\n",
    "            for idx in rank_indices:\n",
    "                weight_matrix[idx][i]=rank\n",
    "                rank=rank+1\n",
    "    correlation=np.zeros((f,f))\n",
    "    for i in range(f):\n",
    "        for j in range(f):\n",
    "            x1=X[i][:]\n",
    "            x2=X[j][:]\n",
    "            corr, _ = pearsonr(x1,x2)\n",
    "            correlation[i][j]=corr\n",
    "    scores=[]\n",
    "    for i in range(f):\n",
    "        weight_sum=0\n",
    "        corr_sum=0\n",
    "        for j in range(3):\n",
    "            corr_sum=corr_sum+(corr_matrix[i][j]*weight_matrix[i][j])\n",
    "            weight_sum=weight_sum+weight_matrix[i][j]\n",
    "        scores.append((corr_sum*f)/(weight_sum*np.sum(correlation[i])))\n",
    "    rank_features=np.argsort(scores)\n",
    "    l=len(scores)-1\n",
    "    correct_order=[]\n",
    "    for i in range(f):\n",
    "        correct_order.append(indices[rank_features[l]])\n",
    "        l=l-1\n",
    "    return correct_order\n",
    "def correlation_algo(correct_order):\n",
    "    labels=list(df['Final Label'])\n",
    "    data=[]\n",
    "    confidence=[]\n",
    "    for i in range(1,124):\n",
    "        refined_set=correct_order[:i]\n",
    "        discarded_set=correct_order[i:]\n",
    "        print(f'Number of features: {i}')\n",
    "        columns=[f'feature{k}' for k in refined_set]\n",
    "        X1=df[columns].values\n",
    "        con,info=ml(X1,labels)\n",
    "        print(max(info))\n",
    "        data.append(info)\n",
    "        confidence.append(con)\n",
    "    return confidence,data"
   ]
  },
  {
   "cell_type": "code",
   "execution_count": null,
   "id": "bda44d9b-f723-467c-96b8-feb477ffb01f",
   "metadata": {},
   "outputs": [
    {
     "name": "stdout",
     "output_type": "stream",
     "text": [
      "[85, 51, 103, 91, 102, 40, 111, 54, 105, 117, 72, 9, 14, 25, 4, 87, 17, 29, 3, 21, 101, 66, 122, 45, 31, 15, 37, 1, 55, 34, 16, 5, 97, 81, 112, 24, 27, 2, 95, 20, 13, 22, 30, 32, 113, 50, 19, 53, 56, 58, 65, 71, 80, 73, 63, 33, 8, 70, 0, 106, 77, 12, 18, 36, 104, 46, 62, 59, 52, 68, 11, 67, 121, 83, 28, 47, 7, 38, 42, 64, 26, 94, 23, 114, 10, 69, 57, 35, 107, 39, 61, 49, 60, 116, 115, 110, 6, 108, 48, 43, 90, 44, 74, 86, 75, 78, 120, 92, 119, 98, 76, 88, 96, 99, 41, 82, 89, 100, 84, 118, 79, 123, 109, 93]\n",
      "Number of features: 1\n",
      "[0.5577275503970678, 0.5577275503970678, 0.5577275503970678, 0.5577275503970678]\n",
      "0.5577275503970678\n",
      "Number of features: 2\n",
      "[0.5577275503970678, 0.5577275503970678, 0.5577275503970678, 0.5577275503970678]\n",
      "0.5577275503970678\n",
      "Number of features: 3\n",
      "[0.5577275503970678, 0.5577275503970678, 0.5577275503970678, 0.5733048259010385]\n",
      "0.5733048259010385\n",
      "Number of features: 4\n",
      "[0.5577275503970678, 0.5577275503970678, 0.5829769904296477, 0.5451028303807779]\n",
      "0.5829769904296477\n",
      "Number of features: 5\n",
      "[0.5577275503970678, 0.5577275503970678, 0.5765628181633069, 0.547648136835675]\n",
      "0.5765628181633069\n",
      "Number of features: 6\n",
      "[0.5577275503970678, 0.5577275503970678, 0.5837914884952148, 0.5602728568519649]\n",
      "0.5837914884952148\n",
      "Number of features: 7\n",
      "[0.5577275503970678, 0.5572184891060884, 0.5919364691508857, 0.5780900020362452]\n",
      "0.5919364691508857\n",
      "Number of features: 8\n",
      "[0.5577275503970678, 0.5829769904296477, 0.5932600285074323, 0.5895947872123803]\n",
      "0.5932600285074323\n",
      "Number of features: 9\n",
      "[0.5577275503970678, 0.5832824272042354, 0.5909183465689269, 0.5881694155976379]\n",
      "0.5909183465689269\n",
      "Number of features: 10\n",
      "[0.5577275503970678, 0.5934636530238241, 0.5860313581755243, 0.597128894318876]\n",
      "0.597128894318876\n",
      "Number of features: 11\n",
      "[0.5577275503970678, 0.5959071472205254, 0.5739156994502138, 0.6041539401343922]\n",
      "0.6041539401343922\n",
      "Number of features: 12\n"
     ]
    },
    {
     "name": "stderr",
     "output_type": "stream",
     "text": [
      "C:\\Users\\JBSCHOLOR-2020-18\\AppData\\Local\\Programs\\Python\\Python312\\Lib\\site-packages\\sklearn\\neural_network\\_multilayer_perceptron.py:691: ConvergenceWarning: Stochastic Optimizer: Maximum iterations (500) reached and the optimization hasn't converged yet.\n",
      "  warnings.warn(\n"
     ]
    },
    {
     "name": "stdout",
     "output_type": "stream",
     "text": [
      "[0.5577275503970678, 0.5893911626959886, 0.5553858684585624, 0.6013031969049073]\n",
      "0.6013031969049073\n",
      "Number of features: 13\n"
     ]
    },
    {
     "name": "stderr",
     "output_type": "stream",
     "text": [
      "C:\\Users\\JBSCHOLOR-2020-18\\AppData\\Local\\Programs\\Python\\Python312\\Lib\\site-packages\\sklearn\\neural_network\\_multilayer_perceptron.py:691: ConvergenceWarning: Stochastic Optimizer: Maximum iterations (500) reached and the optimization hasn't converged yet.\n",
      "  warnings.warn(\n"
     ]
    },
    {
     "name": "stdout",
     "output_type": "stream",
     "text": [
      "[0.5577275503970678, 0.5967216452860924, 0.5554876807167582, 0.6017104459376909]\n",
      "0.6017104459376909\n",
      "Number of features: 14\n",
      "[0.5577275503970678, 0.5874567297902668, 0.5373650987578904, 0.6001832620647526]\n",
      "0.6001832620647526\n",
      "Number of features: 15\n"
     ]
    },
    {
     "name": "stderr",
     "output_type": "stream",
     "text": [
      "C:\\Users\\JBSCHOLOR-2020-18\\AppData\\Local\\Programs\\Python\\Python312\\Lib\\site-packages\\sklearn\\neural_network\\_multilayer_perceptron.py:691: ConvergenceWarning: Stochastic Optimizer: Maximum iterations (500) reached and the optimization hasn't converged yet.\n",
      "  warnings.warn(\n"
     ]
    },
    {
     "name": "stdout",
     "output_type": "stream",
     "text": [
      "[0.5579311749134596, 0.5950926491549583, 0.5634290368560375, 0.6130116065974344]\n",
      "0.6130116065974344\n",
      "Number of features: 16\n"
     ]
    },
    {
     "name": "stderr",
     "output_type": "stream",
     "text": [
      "C:\\Users\\JBSCHOLOR-2020-18\\AppData\\Local\\Programs\\Python\\Python312\\Lib\\site-packages\\sklearn\\neural_network\\_multilayer_perceptron.py:691: ConvergenceWarning: Stochastic Optimizer: Maximum iterations (500) reached and the optimization hasn't converged yet.\n",
      "  warnings.warn(\n"
     ]
    },
    {
     "name": "stdout",
     "output_type": "stream",
     "text": [
      "[0.5579311749134596, 0.5992669517409897, 0.5672979026674811, 0.6131134188556302]\n",
      "0.6131134188556302\n",
      "Number of features: 17\n"
     ]
    },
    {
     "name": "stderr",
     "output_type": "stream",
     "text": [
      "C:\\Users\\JBSCHOLOR-2020-18\\AppData\\Local\\Programs\\Python\\Python312\\Lib\\site-packages\\sklearn\\neural_network\\_multilayer_perceptron.py:691: ConvergenceWarning: Stochastic Optimizer: Maximum iterations (500) reached and the optimization hasn't converged yet.\n",
      "  warnings.warn(\n"
     ]
    },
    {
     "name": "stdout",
     "output_type": "stream",
     "text": [
      "[0.5579311749134596, 0.5987578904500102, 0.5519242516799022, 0.609753614335166]\n",
      "0.609753614335166\n",
      "Number of features: 18\n",
      "[0.5579311749134596, 0.5966198330278966, 0.5302382406841784, 0.6069028711056811]\n",
      "0.6069028711056811\n",
      "Number of features: 19\n"
     ]
    },
    {
     "name": "stderr",
     "output_type": "stream",
     "text": [
      "C:\\Users\\JBSCHOLOR-2020-18\\AppData\\Local\\Programs\\Python\\Python312\\Lib\\site-packages\\sklearn\\neural_network\\_multilayer_perceptron.py:691: ConvergenceWarning: Stochastic Optimizer: Maximum iterations (500) reached and the optimization hasn't converged yet.\n",
      "  warnings.warn(\n"
     ]
    },
    {
     "name": "stdout",
     "output_type": "stream",
     "text": [
      "[0.5582366116880473, 0.6127061698228466, 0.546731826511912, 0.6239055182243942]\n",
      "0.6239055182243942\n",
      "Number of features: 20\n"
     ]
    },
    {
     "name": "stderr",
     "output_type": "stream",
     "text": [
      "C:\\Users\\JBSCHOLOR-2020-18\\AppData\\Local\\Programs\\Python\\Python312\\Lib\\site-packages\\sklearn\\neural_network\\_multilayer_perceptron.py:691: ConvergenceWarning: Stochastic Optimizer: Maximum iterations (500) reached and the optimization hasn't converged yet.\n",
      "  warnings.warn(\n"
     ]
    },
    {
     "name": "stdout",
     "output_type": "stream",
     "text": [
      "[0.5579311749134596, 0.6086336794950112, 0.5537568723274282, 0.6198330278965587]\n",
      "0.6198330278965587\n",
      "Number of features: 21\n",
      "[0.5584402362044391, 0.6058847485237222, 0.5289146813276319, 0.6183058440236204]\n",
      "0.6183058440236204\n",
      "Number of features: 22\n"
     ]
    },
    {
     "name": "stderr",
     "output_type": "stream",
     "text": [
      "C:\\Users\\JBSCHOLOR-2020-18\\AppData\\Local\\Programs\\Python\\Python312\\Lib\\site-packages\\sklearn\\neural_network\\_multilayer_perceptron.py:691: ConvergenceWarning: Stochastic Optimizer: Maximum iterations (500) reached and the optimization hasn't converged yet.\n",
      "  warnings.warn(\n"
     ]
    },
    {
     "name": "stdout",
     "output_type": "stream",
     "text": [
      "[0.5619018529830991, 0.6147424149867644, 0.5402158419873753, 0.6236000814498066]\n",
      "0.6236000814498066\n",
      "Number of features: 23\n"
     ]
    },
    {
     "name": "stderr",
     "output_type": "stream",
     "text": [
      "C:\\Users\\JBSCHOLOR-2020-18\\AppData\\Local\\Programs\\Python\\Python312\\Lib\\site-packages\\sklearn\\neural_network\\_multilayer_perceptron.py:691: ConvergenceWarning: Stochastic Optimizer: Maximum iterations (500) reached and the optimization hasn't converged yet.\n",
      "  warnings.warn(\n"
     ]
    },
    {
     "name": "stdout",
     "output_type": "stream",
     "text": [
      "[0.5621054774994909, 0.6130116065974344, 0.5304418652005701, 0.6245163917735695]\n",
      "0.6245163917735695\n",
      "Number of features: 24\n"
     ]
    },
    {
     "name": "stderr",
     "output_type": "stream",
     "text": [
      "C:\\Users\\JBSCHOLOR-2020-18\\AppData\\Local\\Programs\\Python\\Python312\\Lib\\site-packages\\sklearn\\neural_network\\_multilayer_perceptron.py:691: ConvergenceWarning: Stochastic Optimizer: Maximum iterations (500) reached and the optimization hasn't converged yet.\n",
      "  warnings.warn(\n"
     ]
    },
    {
     "name": "stdout",
     "output_type": "stream",
     "text": [
      "[0.561189167175728, 0.613317043372022, 0.5354306658521686, 0.62054571370393]\n",
      "0.62054571370393\n",
      "Number of features: 25\n",
      "[0.5625127265322745, 0.6192221543473835, 0.5417430258603135, 0.6206475259621258]\n",
      "0.6206475259621258\n",
      "Number of features: 26\n"
     ]
    }
   ],
   "source": [
    "headers=['Logistic','SVM','MLP','Random Forest']\n",
    "indices=[i for i in range(124)]\n",
    "f=len(indices)\n",
    "labels=list(df['Final Label'])\n",
    "l=len(labels)\n",
    "correct_order=find_order()\n",
    "print(correct_order)\n",
    "confidence,data=correlation_algo(correct_order)\n",
    "cols=[f'feature{k}' for k in indices]\n",
    "X=df[cols].values\n",
    "con,info=ml(X,labels)\n",
    "data.append(info)\n",
    "confidence.append(con)\n",
    "print(\"Accuracy on augmented data\")\n",
    "print(tabulate(data, headers=headers, tablefmt=\"grid\"))\n",
    "print(\"Confidence on augmented data\")\n",
    "print(tabulate(confidence, headers=headers, tablefmt=\"grid\"))\n",
    "file_path1='glove_accuracy.pkl'\n",
    "file_path2='glove_confidence.pkl'\n",
    "with open(file_path1,'wb') as f:\n",
    "    pickle.dump(data,f)\n",
    "with open(file_path2,'wb') as f:\n",
    "    pickle.dump(confidence,f)"
   ]
  },
  {
   "cell_type": "code",
   "execution_count": null,
   "id": "9df66afe-b7fb-4db6-be6b-24f9972fe645",
   "metadata": {},
   "outputs": [],
   "source": []
  }
 ],
 "metadata": {
  "kernelspec": {
   "display_name": "Python 3 (ipykernel)",
   "language": "python",
   "name": "python3"
  },
  "language_info": {
   "codemirror_mode": {
    "name": "ipython",
    "version": 3
   },
   "file_extension": ".py",
   "mimetype": "text/x-python",
   "name": "python",
   "nbconvert_exporter": "python",
   "pygments_lexer": "ipython3",
   "version": "3.12.2"
  }
 },
 "nbformat": 4,
 "nbformat_minor": 5
}
