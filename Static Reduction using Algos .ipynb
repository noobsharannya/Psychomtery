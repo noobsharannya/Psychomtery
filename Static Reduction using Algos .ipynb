{
 "cells": [
  {
   "cell_type": "code",
   "execution_count": 7,
   "id": "a1e10253",
   "metadata": {},
   "outputs": [],
   "source": [
    "import pandas as pd\n",
    "import numpy as np\n",
    "import matplotlib.pyplot as plt\n",
    "import seaborn as sns\n",
    "from scipy.stats import chi2\n",
    "from scipy.stats import beta\n",
    "import pickle\n",
    "from scipy.stats import pearsonr\n",
    "import math\n",
    "from sklearn.model_selection import train_test_split\n",
    "from sklearn.ensemble import RandomForestClassifier\n",
    "from sklearn.linear_model import LogisticRegression,LinearRegression\n",
    "from sklearn.neural_network import MLPClassifier,MLPRegressor\n",
    "from sklearn.svm import SVC\n",
    "from sklearn.metrics import accuracy_score, classification_report, confusion_matrix,mean_squared_error\n",
    "from itertools import combinations\n",
    "from tabulate import tabulate"
   ]
  },
  {
   "cell_type": "code",
   "execution_count": 8,
   "id": "9e5633c7",
   "metadata": {},
   "outputs": [],
   "source": [
    "df=pd.read_csv('CSV/corrected.csv')\n",
    "\n",
    "#mapping from trait to question indices\n",
    "questions={\n",
    "    'EI':[0,2,4,6,8,10,12,14,16],\n",
    "    'WI':[27,30,33,36,38,41,44,47,50],\n",
    "    'EC':[39,32,35,40,43,46,49,52,53],\n",
    "    'WC':[1,5,9,13,17,19,21,23,25],\n",
    "    'EA':[3,7,11,16,18,20,22,24,26],\n",
    "    'WA':[28,31,34,37,39,42,45,48,51],\n",
    "    'AM':[56,60,72],\n",
    "    'LC':[54,59,64,67],\n",
    "    'MC':[55,62,65,69],\n",
    "    'ND':[63,66],\n",
    "    'PfW':[58,68,71],\n",
    "    'SE':[57,61,70,73],\n",
    "    'E':[74,79,84,89,94,99,104,109,114,119],\n",
    "    'A':[75,80,85,90,95,100,105,110,115,120],\n",
    "    'C':[76,81,86,91,96,101,106,111,116,121],\n",
    "    'N':[77,82,87,92,97,102,107,112,117,122],\n",
    "    'O':[78,83,88,93,98,103,108,113,118,123]\n",
    "}\n",
    "\n",
    "#functions to compute the labels 'Champion', 'Master' and 'Rookie' based on scores\n",
    "def I_label(score):\n",
    "    if(score==6 or score==7):\n",
    "        return 0\n",
    "    if(score>=2 and score <=5):\n",
    "        return 1\n",
    "    else:\n",
    "        return 2\n",
    "def C_label(score):\n",
    "    if(score>=4 and score<=7):\n",
    "        return 0\n",
    "    elif(score==2 or score==3):\n",
    "        return 1\n",
    "    else:\n",
    "        return 2\n",
    "def A_label(score):\n",
    "    if(score>=4 and score<=6):\n",
    "        return 0\n",
    "    if(score>=7 and score <=9):\n",
    "        return 1\n",
    "    else:\n",
    "        return 2\n",
    "def AM_LC_label(score):\n",
    "    if(score>=4 and score<=5):\n",
    "        return 0\n",
    "    elif(score>=2.6 and score<=3.9):\n",
    "        return 1\n",
    "    else:\n",
    "        return 2\n",
    "def rest_label(score):\n",
    "    if(score>=4 and score<=6):\n",
    "        return 0\n",
    "    elif(score>=2.6 and score<=3.9):\n",
    "        return 1\n",
    "    else:\n",
    "        return 2\n",
    "def EN_label(score):\n",
    "    if(score>=0 and score<=25):\n",
    "        return 0\n",
    "    elif(score>=26 and score<=40):\n",
    "        return 1\n",
    "    else:\n",
    "        return 2\n",
    "def AO_label(score):\n",
    "    if(score>=0 and score<=30):\n",
    "        return 0\n",
    "    elif(score>=31 and score<=40):\n",
    "        return 1\n",
    "    else:\n",
    "        return 2\n",
    "def C3_label(score):\n",
    "    if(score>=36 and score<=50):\n",
    "        return 0\n",
    "    elif(score>=26 and score<=35):\n",
    "        return 1\n",
    "    else:\n",
    "        return 2\n",
    "    \n",
    "#functions to perform the non-linear transformation of the scores\n",
    "def I_smoothing(x):\n",
    "    return(((8-x)*math.exp(0.6*x)+221.406)/29.591)\n",
    "def C_smoothing(x):\n",
    "    return(((12-x)*math.exp(0.15*x)-11.572)/0.327)\n",
    "def A_smoothing(x):\n",
    "    return((2+((x-2)*math.exp(-0.32*x)))/0.261)\n",
    "def identity(x):\n",
    "    return x\n",
    "functions={\n",
    "    'EI':I_label,\n",
    "    'WI':I_label,\n",
    "    'EC':C_label,\n",
    "    'WC':C_label,\n",
    "    'EA':A_label,\n",
    "    'WA':A_label,\n",
    "    'AM':AM_LC_label,\n",
    "    'LC':AM_LC_label,\n",
    "    'MC':rest_label,\n",
    "    'ND':rest_label,\n",
    "    'PfW':rest_label,\n",
    "    'SE':rest_label,\n",
    "    'E':EN_label,\n",
    "    'A':AO_label,\n",
    "    'C':C3_label,\n",
    "    'N':EN_label,\n",
    "    'O':AO_label\n",
    "}\n",
    "smoothing={\n",
    "    'EI':I_smoothing,\n",
    "    'WI':I_smoothing,\n",
    "    'EC':C_smoothing,\n",
    "    'WC':C_smoothing,\n",
    "    'EA':A_smoothing,\n",
    "    'WA':A_smoothing,\n",
    "    'AM':identity,\n",
    "    'LC':identity,\n",
    "    'MC':identity,\n",
    "    'ND':identity,\n",
    "    'PfW':identity,\n",
    "    'SE':identity,\n",
    "    'E':identity,\n",
    "    'A':identity,\n",
    "    'C':identity,\n",
    "    'N':identity,\n",
    "    'O':identity\n",
    "}"
   ]
  },
  {
   "cell_type": "code",
   "execution_count": 9,
   "id": "638ed562",
   "metadata": {},
   "outputs": [],
   "source": [
    "#Machine Learning algorithm that returns confidence and accuracy\n",
    "def ml(X,labels):\n",
    "    split_index = int(0.6 * df.shape[0])\n",
    "    labels=np.array(labels)\n",
    "    X_train, X_test = X[:split_index], X[split_index:]\n",
    "    y_train, y_test = labels[:split_index], labels[split_index:]\n",
    "    logistic_regression_classifier = LogisticRegression(max_iter=1000, random_state=42)\n",
    "    logistic_regression_classifier.fit(X_train, y_train)\n",
    "    y_pred = logistic_regression_classifier.predict(X_test)\n",
    "    probabilities = logistic_regression_classifier.predict_proba(X_test)\n",
    "    confidences = np.max(probabilities, axis=1)\n",
    "    logistic_confidence=np.mean(confidences)\n",
    "    acc_logistic=accuracy_score(y_test, y_pred)\n",
    "    svm_classifier = SVC(kernel='rbf', C=1.0, random_state=42)\n",
    "    svm_classifier.fit(X_train, y_train)\n",
    "    y_pred = svm_classifier.predict(X_test)\n",
    "    confidence_scores = svm_classifier.decision_function(X_test)\n",
    "    svm_confidence=np.mean(np.abs(confidence_scores))\n",
    "    acc_svm=accuracy_score(y_test, y_pred)\n",
    "    h1=len(X_train[0])\n",
    "    mlp = MLPClassifier(hidden_layer_sizes=(2*h1,6), max_iter=500, random_state=42)\n",
    "    mlp.fit(X_train, y_train)\n",
    "    y_pred = mlp.predict(X_test)\n",
    "    probabilities = mlp.predict_proba(X_test)\n",
    "    confidences = np.max(probabilities, axis=1)\n",
    "    mlp_confidence=np.mean(confidences)\n",
    "    acc_mlp=accuracy_score(y_test, y_pred)\n",
    "    random_forest_classifier = RandomForestClassifier(n_estimators=100, random_state=42)\n",
    "    random_forest_classifier.fit(X_train, y_train)\n",
    "    y_pred = random_forest_classifier.predict(X_test)\n",
    "    probabilities = random_forest_classifier.predict_proba(X_test)\n",
    "    confidences = np.max(probabilities, axis=1)\n",
    "    rf_confidence=np.mean(confidences)\n",
    "    acc_rf=accuracy_score(y_test, y_pred)\n",
    "    data=[acc_logistic,acc_svm,acc_mlp,acc_rf]\n",
    "    confidence=[logistic_confidence,svm_confidence,mlp_confidence,rf_confidence]\n",
    "    return confidence,data"
   ]
  },
  {
   "cell_type": "code",
   "execution_count": 10,
   "id": "cb5a3694",
   "metadata": {},
   "outputs": [],
   "source": [
    "# function computes the algorithm to determine the order and call the ML algos using feature number ranging from 1 to f\n",
    "def correlation_algo(trait):\n",
    "    truncate_index = int(len(df) * 0.6)\n",
    "    truncated_df = df.iloc[:truncate_index]\n",
    "    indices=questions[trait]\n",
    "    f=len(indices)\n",
    "    y=[functions[trait](i) for i in list(truncated_df[trait])]\n",
    "    values=[smoothing[trait](i) for i in list(truncated_df[trait])]\n",
    "    X=[]\n",
    "    for i in indices:\n",
    "        X.append(list(truncated_df[f'feature{i}']))\n",
    "    l=len(X[0])\n",
    "    corr_matrix=np.zeros((f,3))\n",
    "    weight_matrix=np.zeros((f,3))\n",
    "    for i in range(3):\n",
    "        c=[values[j] for j in range(l) if y[j]==i]\n",
    "        if(len(c)>0):\n",
    "            for j in range(f):\n",
    "                x_temp=[X[j][k] for k in range(l) if y[k]==i]\n",
    "                corr, _ = pearsonr(x_temp, c)\n",
    "                corr_matrix[j][i]=abs(corr)\n",
    "            x=list(corr_matrix[:,i])\n",
    "            rank_indices=np.argsort(x)\n",
    "            rank=1\n",
    "            for idx in rank_indices:\n",
    "                weight_matrix[idx][i]=rank\n",
    "                rank=rank+1\n",
    "    correlation=np.zeros((f,f))\n",
    "    for i in range(f):\n",
    "        for j in range(f):\n",
    "            x1=X[i][:]\n",
    "            x2=X[j][:]\n",
    "            corr, _ = pearsonr(x1,x2)\n",
    "            correlation[i][j]=corr\n",
    "    scores=[]\n",
    "    for i in range(f):\n",
    "        weight_sum=0\n",
    "        corr_sum=0\n",
    "        for j in range(3):\n",
    "            corr_sum=corr_sum+(corr_matrix[i][j]*weight_matrix[i][j])\n",
    "            weight_sum=weight_sum+weight_matrix[i][j]\n",
    "        scores.append((corr_sum*f)/(weight_sum*np.sum(correlation[i])))\n",
    "    rank_features=np.argsort(scores)\n",
    "    data=[]\n",
    "    confidence=[]\n",
    "    labels=[functions[trait](i) for i in list(df[trait])]\n",
    "    l=len(scores)-1\n",
    "    correct_order=[]\n",
    "    for i in range(f+1):\n",
    "        correct_order.append(indices[rank_features[l]])\n",
    "        l=l-1\n",
    "    for i in range(1,f+1):\n",
    "        refined_set=correct_order[:i]\n",
    "        discarded_set=correct_order[i:]\n",
    "        print(f'Refined set :{refined_set}, Discarded set:{discarded_set}')\n",
    "        columns=[f'feature{k}' for k in refined_set]\n",
    "        X1=df[columns].values\n",
    "        con,info=ml(X1,labels)\n",
    "        print(max(info))\n",
    "        data.append(info)\n",
    "        confidence.append(con)\n",
    "    return confidence,data"
   ]
  },
  {
   "cell_type": "code",
   "execution_count": 11,
   "id": "abeabec6",
   "metadata": {},
   "outputs": [],
   "source": [
    "#call reductions\n",
    "def call_reductions(trait):\n",
    "    headers=['Logistic','SVM','MLP','Random Forest']\n",
    "    indices=questions[trait]\n",
    "    f=len(indices)\n",
    "    labels=[functions[trait](i) for i in list(df[trait])]\n",
    "    l=len(labels)\n",
    "    confidence,data=correlation_algo(trait)\n",
    "    print(\"Accuracy on augmented data\")\n",
    "    print(tabulate(data, headers=headers, tablefmt=\"grid\"))\n",
    "    print(\"Confidence on augmented data\")\n",
    "    print(tabulate(confidence, headers=headers, tablefmt=\"grid\"))\n",
    "    file_path1=f'trait-wise/corrected/{trait}_accuracy.pkl'\n",
    "    file_path2=f'trait-wise/corrected/{trait}_confidence.pkl'\n",
    "    with open(file_path1,'wb') as f:\n",
    "        pickle.dump(data,f)\n",
    "    with open(file_path2,'wb') as f:\n",
    "        pickle.dump(confidence,f)"
   ]
  },
  {
   "cell_type": "code",
   "execution_count": 12,
   "id": "c6f60a7b",
   "metadata": {},
   "outputs": [
    {
     "name": "stdout",
     "output_type": "stream",
     "text": [
      "Refined set :[14], Discarded set:[8, 6, 12, 0, 10, 4, 2, 16]\n",
      "0.4062671797691039\n",
      "Refined set :[14, 8], Discarded set:[6, 12, 0, 10, 4, 2, 16]\n",
      "0.6948873007146784\n",
      "Refined set :[14, 8, 6], Discarded set:[12, 0, 10, 4, 2, 16]\n",
      "0.7625068719076415\n",
      "Refined set :[14, 8, 6, 12], Discarded set:[0, 10, 4, 2, 16]\n"
     ]
    },
    {
     "name": "stderr",
     "output_type": "stream",
     "text": [
      "C:\\Users\\JBSCHOLOR-2020-18\\AppData\\Local\\Programs\\Python\\Python312\\Lib\\site-packages\\sklearn\\neural_network\\_multilayer_perceptron.py:691: ConvergenceWarning: Stochastic Optimizer: Maximum iterations (500) reached and the optimization hasn't converged yet.\n",
      "  warnings.warn(\n"
     ]
    },
    {
     "name": "stdout",
     "output_type": "stream",
     "text": [
      "0.8317757009345794\n",
      "Refined set :[14, 8, 6, 12, 0], Discarded set:[10, 4, 2, 16]\n"
     ]
    },
    {
     "name": "stderr",
     "output_type": "stream",
     "text": [
      "C:\\Users\\JBSCHOLOR-2020-18\\AppData\\Local\\Programs\\Python\\Python312\\Lib\\site-packages\\sklearn\\neural_network\\_multilayer_perceptron.py:691: ConvergenceWarning: Stochastic Optimizer: Maximum iterations (500) reached and the optimization hasn't converged yet.\n",
      "  warnings.warn(\n"
     ]
    },
    {
     "name": "stdout",
     "output_type": "stream",
     "text": [
      "0.8752061572292469\n",
      "Refined set :[14, 8, 6, 12, 0, 10], Discarded set:[4, 2, 16]\n",
      "0.8730071467839472\n",
      "Refined set :[14, 8, 6, 12, 0, 10, 4], Discarded set:[2, 16]\n",
      "0.8818031885651457\n",
      "Refined set :[14, 8, 6, 12, 0, 10, 4, 2], Discarded set:[16]\n"
     ]
    },
    {
     "name": "stderr",
     "output_type": "stream",
     "text": [
      "C:\\Users\\JBSCHOLOR-2020-18\\AppData\\Local\\Programs\\Python\\Python312\\Lib\\site-packages\\sklearn\\neural_network\\_multilayer_perceptron.py:691: ConvergenceWarning: Stochastic Optimizer: Maximum iterations (500) reached and the optimization hasn't converged yet.\n",
      "  warnings.warn(\n"
     ]
    },
    {
     "name": "stdout",
     "output_type": "stream",
     "text": [
      "0.8829026937877955\n"
     ]
    },
    {
     "name": "stderr",
     "output_type": "stream",
     "text": [
      "C:\\Users\\JBSCHOLOR-2020-18\\AppData\\Local\\Programs\\Python\\Python312\\Lib\\site-packages\\sklearn\\neural_network\\_multilayer_perceptron.py:691: ConvergenceWarning: Stochastic Optimizer: Maximum iterations (500) reached and the optimization hasn't converged yet.\n",
      "  warnings.warn(\n"
     ]
    },
    {
     "name": "stdout",
     "output_type": "stream",
     "text": [
      "Accuracy on augmented data\n",
      "+------------+----------+----------+-----------------+\n",
      "|   Logistic |      SVM |      MLP |   Random Forest |\n",
      "+============+==========+==========+=================+\n",
      "|   0.406267 | 0.406267 | 0.406267 |        0.406267 |\n",
      "+------------+----------+----------+-----------------+\n",
      "|   0.495877 | 0.694887 | 0.639912 |        0.693788 |\n",
      "+------------+----------+----------+-----------------+\n",
      "|   0.71083  | 0.750412 | 0.762507 |        0.75646  |\n",
      "+------------+----------+----------+-----------------+\n",
      "|   0.780099 | 0.831776 | 0.818582 |        0.820231 |\n",
      "+------------+----------+----------+-----------------+\n",
      "|   0.79989  | 0.875206 | 0.860913 |        0.868609 |\n",
      "+------------+----------+----------+-----------------+\n",
      "|   0.797691 | 0.86586  | 0.86696  |        0.873007 |\n",
      "+------------+----------+----------+-----------------+\n",
      "|   0.813634 | 0.873557 | 0.857064 |        0.881803 |\n",
      "+------------+----------+----------+-----------------+\n",
      "|   0.812534 | 0.869159 | 0.86696  |        0.882903 |\n",
      "+------------+----------+----------+-----------------+\n",
      "|   0.811435 | 0.864761 | 0.86751  |        0.884552 |\n",
      "+------------+----------+----------+-----------------+\n",
      "Confidence on augmented data\n",
      "+------------+---------+----------+-----------------+\n",
      "|   Logistic |     SVM |      MLP |   Random Forest |\n",
      "+============+=========+==========+=================+\n",
      "|   0.49665  | 1.14814 | 0.542594 |        0.539516 |\n",
      "+------------+---------+----------+-----------------+\n",
      "|   0.541371 | 1.16325 | 0.625617 |        0.651767 |\n",
      "+------------+---------+----------+-----------------+\n",
      "|   0.638509 | 1.16682 | 0.742764 |        0.790458 |\n",
      "+------------+---------+----------+-----------------+\n",
      "|   0.667944 | 1.15619 | 0.794809 |        0.863192 |\n",
      "+------------+---------+----------+-----------------+\n",
      "|   0.711053 | 1.16289 | 0.843021 |        0.905732 |\n",
      "+------------+---------+----------+-----------------+\n",
      "|   0.711492 | 1.16276 | 0.883572 |        0.90532  |\n",
      "+------------+---------+----------+-----------------+\n",
      "|   0.713209 | 1.16765 | 0.883761 |        0.891482 |\n",
      "+------------+---------+----------+-----------------+\n",
      "|   0.713232 | 1.17026 | 0.869469 |        0.883706 |\n",
      "+------------+---------+----------+-----------------+\n",
      "|   0.714848 | 1.17252 | 0.895037 |        0.885111 |\n",
      "+------------+---------+----------+-----------------+\n"
     ]
    }
   ],
   "source": [
    "call_reductions('EI')"
   ]
  },
  {
   "cell_type": "code",
   "execution_count": null,
   "id": "46f4d971",
   "metadata": {},
   "outputs": [
    {
     "name": "stdout",
     "output_type": "stream",
     "text": [
      "Refined set :[27], Discarded set:[47, 38, 30, 50, 44, 33, 36, 41]\n",
      "0.3232545354590434\n",
      "Refined set :[27, 47], Discarded set:[38, 30, 50, 44, 33, 36, 41]\n",
      "0.7784496976360638\n",
      "Refined set :[27, 47, 38], Discarded set:[30, 50, 44, 33, 36, 41]\n"
     ]
    },
    {
     "name": "stderr",
     "output_type": "stream",
     "text": [
      "C:\\Users\\JBSCHOLOR-2020-18\\AppData\\Local\\Programs\\Python\\Python312\\Lib\\site-packages\\sklearn\\neural_network\\_multilayer_perceptron.py:691: ConvergenceWarning: Stochastic Optimizer: Maximum iterations (500) reached and the optimization hasn't converged yet.\n",
      "  warnings.warn(\n"
     ]
    },
    {
     "name": "stdout",
     "output_type": "stream",
     "text": [
      "0.7839472237493128\n",
      "Refined set :[27, 47, 38, 30], Discarded set:[50, 44, 33, 36, 41]\n",
      "0.7855964815832875\n",
      "Refined set :[27, 47, 38, 30, 50], Discarded set:[44, 33, 36, 41]\n"
     ]
    },
    {
     "name": "stderr",
     "output_type": "stream",
     "text": [
      "C:\\Users\\JBSCHOLOR-2020-18\\AppData\\Local\\Programs\\Python\\Python312\\Lib\\site-packages\\sklearn\\neural_network\\_multilayer_perceptron.py:691: ConvergenceWarning: Stochastic Optimizer: Maximum iterations (500) reached and the optimization hasn't converged yet.\n",
      "  warnings.warn(\n"
     ]
    },
    {
     "name": "stdout",
     "output_type": "stream",
     "text": [
      "0.7844969763606378\n",
      "Refined set :[27, 47, 38, 30, 50, 44], Discarded set:[33, 36, 41]\n",
      "0.7850467289719626\n",
      "Refined set :[27, 47, 38, 30, 50, 44, 33], Discarded set:[36, 41]\n"
     ]
    }
   ],
   "source": [
    "call_reductions('WI')"
   ]
  },
  {
   "cell_type": "code",
   "execution_count": null,
   "id": "200e80a7",
   "metadata": {},
   "outputs": [],
   "source": [
    "call_reductions('EC')"
   ]
  },
  {
   "cell_type": "code",
   "execution_count": null,
   "id": "d8677e9a",
   "metadata": {},
   "outputs": [],
   "source": [
    "call_reductions('WC')"
   ]
  },
  {
   "cell_type": "code",
   "execution_count": null,
   "id": "9cc1579b",
   "metadata": {},
   "outputs": [],
   "source": [
    "call_reductions('EA')"
   ]
  },
  {
   "cell_type": "code",
   "execution_count": null,
   "id": "7922885d",
   "metadata": {},
   "outputs": [],
   "source": [
    "call_reductions('WA')"
   ]
  },
  {
   "cell_type": "code",
   "execution_count": null,
   "id": "ee4de833",
   "metadata": {},
   "outputs": [],
   "source": [
    "call_reductions('E')"
   ]
  },
  {
   "cell_type": "code",
   "execution_count": null,
   "id": "26baff25",
   "metadata": {},
   "outputs": [],
   "source": [
    "call_reductions('A')"
   ]
  },
  {
   "cell_type": "code",
   "execution_count": null,
   "id": "7fbb5272",
   "metadata": {},
   "outputs": [],
   "source": [
    "call_reductions('C')"
   ]
  },
  {
   "cell_type": "code",
   "execution_count": null,
   "id": "0d498bf6",
   "metadata": {},
   "outputs": [],
   "source": [
    "call_reductions('N')"
   ]
  },
  {
   "cell_type": "code",
   "execution_count": null,
   "id": "5a9ee24e",
   "metadata": {},
   "outputs": [],
   "source": [
    "call_reductions('O')"
   ]
  },
  {
   "cell_type": "code",
   "execution_count": null,
   "id": "87d91da7",
   "metadata": {},
   "outputs": [],
   "source": [
    "call_reductions('AM')"
   ]
  },
  {
   "cell_type": "code",
   "execution_count": null,
   "id": "c6e8a82d",
   "metadata": {},
   "outputs": [],
   "source": [
    "call_reductions('LC')"
   ]
  },
  {
   "cell_type": "code",
   "execution_count": null,
   "id": "5b6740ba",
   "metadata": {},
   "outputs": [],
   "source": [
    "call_reductions('MC')"
   ]
  },
  {
   "cell_type": "code",
   "execution_count": null,
   "id": "7f6c8f23",
   "metadata": {},
   "outputs": [],
   "source": [
    "call_reductions('ND')"
   ]
  },
  {
   "cell_type": "code",
   "execution_count": null,
   "id": "a526597f",
   "metadata": {},
   "outputs": [],
   "source": [
    "call_reductions('PfW')"
   ]
  },
  {
   "cell_type": "code",
   "execution_count": null,
   "id": "00118e7a",
   "metadata": {},
   "outputs": [],
   "source": [
    "call_reductions('SE')"
   ]
  }
 ],
 "metadata": {
  "kernelspec": {
   "display_name": "Python 3 (ipykernel)",
   "language": "python",
   "name": "python3"
  },
  "language_info": {
   "codemirror_mode": {
    "name": "ipython",
    "version": 3
   },
   "file_extension": ".py",
   "mimetype": "text/x-python",
   "name": "python",
   "nbconvert_exporter": "python",
   "pygments_lexer": "ipython3",
   "version": "3.11.5"
  }
 },
 "nbformat": 4,
 "nbformat_minor": 5
}
